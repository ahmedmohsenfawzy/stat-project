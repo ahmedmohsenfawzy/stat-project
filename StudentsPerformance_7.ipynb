{
  "nbformat": 4,
  "nbformat_minor": 0,
  "metadata": {
    "colab": {
      "provenance": []
    },
    "kernelspec": {
      "name": "python3",
      "display_name": "Python 3"
    },
    "language_info": {
      "name": "python"
    }
  },
  "cells": [
    {
      "cell_type": "markdown",
      "source": [
        "# the data we can see it as 3 senarios \n",
        "# first :\n",
        " by using clusting then use col result and make classification on it\n",
        "# second :\n",
        " we use regression on col G3 as y to predict the result \n",
        "#third : \n",
        " we use classification on school col as y to predict it "
      ],
      "metadata": {
        "id": "akedcWIc8TKA"
      }
    },
    {
      "cell_type": "code",
      "execution_count": 1,
      "metadata": {
        "id": "pUx8Hfh7F26T"
      },
      "outputs": [],
      "source": [
        "#import \n",
        "import numpy as np\n",
        "import pandas as pd\n",
        "import matplotlib.pyplot as plt\n",
        "%matplotlib inline\n",
        "from sklearn import cluster\n",
        "import seaborn as sns\n",
        "from sklearn.model_selection import train_test_split\n",
        "from sklearn.linear_model import LogisticRegression\n",
        "from sklearn import metrics\n",
        "from sklearn.preprocessing import LabelEncoder, OneHotEncoder, StandardScaler\n",
        "from sklearn.cluster import KMeans\n",
        "from sklearn.svm import SVC\n",
        "from sklearn.naive_bayes import BernoulliNB\n",
        "from sklearn.tree import DecisionTreeClassifier\n",
        "from sklearn.ensemble import RandomForestRegressor\n",
        "from sklearn.ensemble import RandomForestClassifier\n",
        "from sklearn.linear_model import Lasso\n",
        "from sklearn.feature_selection import SelectFromModel\n",
        "from xgboost import XGBRegressor\n",
        "from sklearn.model_selection import RandomizedSearchCV\n",
        "from sklearn.neighbors import KNeighborsClassifier\n",
        "from sklearn.linear_model import LinearRegression\n",
        "from sklearn.metrics import mean_squared_error, mean_absolute_error\n",
        "from sklearn.tree import DecisionTreeRegressor\n",
        "from sklearn.decomposition import PCA\n",
        "from numpy.random import randn\n",
        "from numpy.random import seed\n",
        "from scipy.stats import pearsonr\n",
        "from sklearn.linear_model import Ridge"
      ]
    },
    {
      "cell_type": "code",
      "source": [
        "#knn algorithm\n",
        "def kn(x_train,y_train,x_test,y_test):\n",
        "  kn = KNeighborsClassifier(n_neighbors=9)\n",
        "  kn.fit(x_train, y_train)\n",
        "  prd4 = kn.predict(x_test)\n",
        "  print('accuracy', metrics.accuracy_score(y_test, prd4) * 100, '%')"
      ],
      "metadata": {
        "id": "0kvOCPMaYKTt"
      },
      "execution_count": 2,
      "outputs": []
    },
    {
      "cell_type": "code",
      "source": [
        "#random forst\n",
        "def forst(x_train,y_train,x_test,y_test):\n",
        "  forest = RandomForestClassifier(random_state=0, criterion='entropy', n_estimators=10)\n",
        "  forest.fit(x_train, y_train)\n",
        "  prd6 = forest.predict(x_test)\n",
        "  print('accuracy', metrics.accuracy_score(y_test, prd6) * 100, '%')"
      ],
      "metadata": {
        "id": "w22bvCA7IwQv"
      },
      "execution_count": 3,
      "outputs": []
    },
    {
      "cell_type": "code",
      "source": [
        "#naive base\n",
        "def km(x_train,y_train,x_test,y_test):\n",
        "  km = BernoulliNB()\n",
        "  km.fit(x_train, y_train)\n",
        "  prd5 = km.predict(x_test)\n",
        "  print('accuracy', metrics.accuracy_score(y_test, prd5) * 100, '%')"
      ],
      "metadata": {
        "id": "zDrZnHOaG730"
      },
      "execution_count": 4,
      "outputs": []
    },
    {
      "cell_type": "code",
      "source": [
        "#desion tree\n",
        "def dtc(x_train,y_train,x_test,y_test):\n",
        "  dtc = DecisionTreeClassifier(criterion='entropy', random_state=0)\n",
        "  dtc = dtc.fit(x_train, y_train)\n",
        "  prd1 = dtc.predict(x_test)\n",
        "  print('accuracy', metrics.accuracy_score(y_test, prd1) * 100, '%')"
      ],
      "metadata": {
        "id": "DFkuvlnXE7o4"
      },
      "execution_count": 5,
      "outputs": []
    },
    {
      "cell_type": "code",
      "source": [
        "#svm\n",
        "def svm(x_train,y_train,x_test,y_test):\n",
        "  s = SVC()\n",
        "  s.fit(x_train, y_train)\n",
        "  prd3 = s.predict(x_test)\n",
        "  print('accuracy', metrics.accuracy_score(y_test, prd3) * 100, '%')"
      ],
      "metadata": {
        "id": "Xt1s5gTLDZfE"
      },
      "execution_count": 6,
      "outputs": []
    },
    {
      "cell_type": "code",
      "source": [
        "#LogisticRegression\n",
        "def logisticr(x_train,y_train,x_test,y_test):\n",
        "  lg = LogisticRegression()\n",
        "  lg = lg.fit(x_train, y_train)\n",
        "  prd2 = lg.predict(x_test)\n",
        "  print('accuracy', metrics.accuracy_score(y_test, prd2) * 100, '%')"
      ],
      "metadata": {
        "id": "Kp_N9UqFAmSs"
      },
      "execution_count": 7,
      "outputs": []
    },
    {
      "cell_type": "code",
      "source": [
        "#making plot\n",
        "def plot_boxplot(df, ft):\n",
        "  df.boxplot(column=[ft])\n",
        "  # plt.grid(False)\n",
        "  plt.show()"
      ],
      "metadata": {
        "id": "M9nxwhey_qig"
      },
      "execution_count": 8,
      "outputs": []
    },
    {
      "cell_type": "code",
      "source": [
        "#removing row \n",
        "def remove_row(df, lis):\n",
        "  lis = sorted(set(lis))\n",
        "  df = df.drop(lis)\n",
        "  return df"
      ],
      "metadata": {
        "id": "5Kgj-Efa_hez"
      },
      "execution_count": 9,
      "outputs": []
    },
    {
      "cell_type": "code",
      "source": [
        "#show numbers of cluster\n",
        "def optimise_k_mean(df, k):\n",
        "  means=[]\n",
        "  inertias=[]\n",
        "\n",
        "  for k in range(1, k):\n",
        "    Kmeans = KMeans(n_clusters=k)\n",
        "    Kmeans.fit(df)\n",
        "    means.append(k)\n",
        "    inertias.append(Kmeans.inertia_)\n",
        "  \n",
        "  fig = plt.subplots(figsize=(10,5))\n",
        "  plt.plot(means, inertias, 'o-')\n",
        "  plt.xlabel(\"Number of cluster\")\n",
        "  plt.ylabel(\"Inertias\")\n",
        "  plt.show()\n"
      ],
      "metadata": {
        "id": "oJUZ9vQB_aPb"
      },
      "execution_count": 10,
      "outputs": []
    },
    {
      "cell_type": "code",
      "source": [
        "#sprit data\n",
        "def train_test(x,y):\n",
        "  x_train, x_test, y_train, y_test = train_test_split(x, y, test_size=0.25, shuffle=True, random_state=0)\n",
        "  scaler.fit(x_train)\n",
        "  x_train = scaler.fit_transform(x_train)\n",
        "  x_test = scaler.transform(x_test)\n",
        "  x_train = np.nan_to_num(x_train)\n",
        "  x_test = np.nan_to_num(x_test)\n",
        "  return x_train,x_test,y_train,y_test"
      ],
      "metadata": {
        "id": "dV83u7Kq_Q2b"
      },
      "execution_count": 11,
      "outputs": []
    },
    {
      "cell_type": "code",
      "source": [
        "#remove outliars\n",
        "def outliars(df, ft):\n",
        "  q1 = df[ft].quantile(0.25)\n",
        "  q3 = df[ft].quantile(0.75)\n",
        "  iqr = q3 - q1\n",
        "  lower_pound = q1 - 1.5*iqr\n",
        "  upper_pound = q3 + 1.5*iqr\n",
        "  lis = df.index[(df[ft] < lower_pound) | (df[ft] > upper_pound)]\n",
        "  return lis"
      ],
      "metadata": {
        "id": "vaXTP8Jy_mlN"
      },
      "execution_count": 12,
      "outputs": []
    },
    {
      "cell_type": "code",
      "source": [
        "#preprossing data\n",
        "df = pd.read_csv(\"StudentsPerformance.csv\")\n",
        "df = df.iloc[:,1:]\n",
        "df.drop_duplicates(inplace=True)\n",
        "df.dropna(inplace = True, axis=0)\n",
        "df['school'] = df['school'].map({'GP': 1, 'MS': 0})\n",
        "df['sex'] = df['sex'].map({'M': 1, 'F': 0})\n",
        "df['internet'] = df['internet'].map({'yes': 1, 'no': 0})\n",
        "df['romantic'] = df['romantic'].map({'yes': 1, 'no': 0})\n",
        "df.describe()"
      ],
      "metadata": {
        "id": "Dn72D7gHGBHd",
        "colab": {
          "base_uri": "https://localhost:8080/",
          "height": 300
        },
        "outputId": "7eeca380-f4ce-4f4a-ae42-501775870cd5"
      },
      "execution_count": 13,
      "outputs": [
        {
          "output_type": "execute_result",
          "data": {
            "text/plain": [
              "           school         sex         age       goout    internet    romantic  \\\n",
              "count  395.000000  395.000000  395.000000  395.000000  395.000000  395.000000   \n",
              "mean     0.883544    0.473418   16.696203    3.108861    0.832911    0.334177   \n",
              "std      0.321177    0.499926    1.276043    1.113278    0.373528    0.472300   \n",
              "min      0.000000    0.000000   15.000000    1.000000    0.000000    0.000000   \n",
              "25%      1.000000    0.000000   16.000000    2.000000    1.000000    0.000000   \n",
              "50%      1.000000    0.000000   17.000000    3.000000    1.000000    0.000000   \n",
              "75%      1.000000    1.000000   18.000000    4.000000    1.000000    1.000000   \n",
              "max      1.000000    1.000000   22.000000    5.000000    1.000000    1.000000   \n",
              "\n",
              "        studytime    failures      health    absences          G1          G2  \\\n",
              "count  395.000000  395.000000  395.000000  395.000000  395.000000  395.000000   \n",
              "mean     2.035443    0.334177    3.554430    5.708861   10.782848   12.273471   \n",
              "std      0.839240    0.743651    1.390303    8.003096    3.521057    4.086833   \n",
              "min      1.000000    0.000000    1.000000    0.000000    1.713843    0.000000   \n",
              "25%      1.000000    0.000000    3.000000    0.000000    8.000000    9.987707   \n",
              "50%      2.000000    0.000000    4.000000    4.000000   11.000000   12.243752   \n",
              "75%      2.000000    0.000000    5.000000    8.000000   13.000000   15.075698   \n",
              "max      4.000000    3.000000    5.000000   75.000000   19.000000   20.000000   \n",
              "\n",
              "              G3  \n",
              "count  395.00000  \n",
              "mean    12.64076  \n",
              "std      5.14487  \n",
              "min      0.00000  \n",
              "25%     10.00000  \n",
              "50%     13.36758  \n",
              "75%     16.47307  \n",
              "max     20.00000  "
            ],
            "text/html": [
              "\n",
              "  <div id=\"df-5d2a9169-fc76-4fca-8c8f-21fbfcd1a2bd\">\n",
              "    <div class=\"colab-df-container\">\n",
              "      <div>\n",
              "<style scoped>\n",
              "    .dataframe tbody tr th:only-of-type {\n",
              "        vertical-align: middle;\n",
              "    }\n",
              "\n",
              "    .dataframe tbody tr th {\n",
              "        vertical-align: top;\n",
              "    }\n",
              "\n",
              "    .dataframe thead th {\n",
              "        text-align: right;\n",
              "    }\n",
              "</style>\n",
              "<table border=\"1\" class=\"dataframe\">\n",
              "  <thead>\n",
              "    <tr style=\"text-align: right;\">\n",
              "      <th></th>\n",
              "      <th>school</th>\n",
              "      <th>sex</th>\n",
              "      <th>age</th>\n",
              "      <th>goout</th>\n",
              "      <th>internet</th>\n",
              "      <th>romantic</th>\n",
              "      <th>studytime</th>\n",
              "      <th>failures</th>\n",
              "      <th>health</th>\n",
              "      <th>absences</th>\n",
              "      <th>G1</th>\n",
              "      <th>G2</th>\n",
              "      <th>G3</th>\n",
              "    </tr>\n",
              "  </thead>\n",
              "  <tbody>\n",
              "    <tr>\n",
              "      <th>count</th>\n",
              "      <td>395.000000</td>\n",
              "      <td>395.000000</td>\n",
              "      <td>395.000000</td>\n",
              "      <td>395.000000</td>\n",
              "      <td>395.000000</td>\n",
              "      <td>395.000000</td>\n",
              "      <td>395.000000</td>\n",
              "      <td>395.000000</td>\n",
              "      <td>395.000000</td>\n",
              "      <td>395.000000</td>\n",
              "      <td>395.000000</td>\n",
              "      <td>395.000000</td>\n",
              "      <td>395.00000</td>\n",
              "    </tr>\n",
              "    <tr>\n",
              "      <th>mean</th>\n",
              "      <td>0.883544</td>\n",
              "      <td>0.473418</td>\n",
              "      <td>16.696203</td>\n",
              "      <td>3.108861</td>\n",
              "      <td>0.832911</td>\n",
              "      <td>0.334177</td>\n",
              "      <td>2.035443</td>\n",
              "      <td>0.334177</td>\n",
              "      <td>3.554430</td>\n",
              "      <td>5.708861</td>\n",
              "      <td>10.782848</td>\n",
              "      <td>12.273471</td>\n",
              "      <td>12.64076</td>\n",
              "    </tr>\n",
              "    <tr>\n",
              "      <th>std</th>\n",
              "      <td>0.321177</td>\n",
              "      <td>0.499926</td>\n",
              "      <td>1.276043</td>\n",
              "      <td>1.113278</td>\n",
              "      <td>0.373528</td>\n",
              "      <td>0.472300</td>\n",
              "      <td>0.839240</td>\n",
              "      <td>0.743651</td>\n",
              "      <td>1.390303</td>\n",
              "      <td>8.003096</td>\n",
              "      <td>3.521057</td>\n",
              "      <td>4.086833</td>\n",
              "      <td>5.14487</td>\n",
              "    </tr>\n",
              "    <tr>\n",
              "      <th>min</th>\n",
              "      <td>0.000000</td>\n",
              "      <td>0.000000</td>\n",
              "      <td>15.000000</td>\n",
              "      <td>1.000000</td>\n",
              "      <td>0.000000</td>\n",
              "      <td>0.000000</td>\n",
              "      <td>1.000000</td>\n",
              "      <td>0.000000</td>\n",
              "      <td>1.000000</td>\n",
              "      <td>0.000000</td>\n",
              "      <td>1.713843</td>\n",
              "      <td>0.000000</td>\n",
              "      <td>0.00000</td>\n",
              "    </tr>\n",
              "    <tr>\n",
              "      <th>25%</th>\n",
              "      <td>1.000000</td>\n",
              "      <td>0.000000</td>\n",
              "      <td>16.000000</td>\n",
              "      <td>2.000000</td>\n",
              "      <td>1.000000</td>\n",
              "      <td>0.000000</td>\n",
              "      <td>1.000000</td>\n",
              "      <td>0.000000</td>\n",
              "      <td>3.000000</td>\n",
              "      <td>0.000000</td>\n",
              "      <td>8.000000</td>\n",
              "      <td>9.987707</td>\n",
              "      <td>10.00000</td>\n",
              "    </tr>\n",
              "    <tr>\n",
              "      <th>50%</th>\n",
              "      <td>1.000000</td>\n",
              "      <td>0.000000</td>\n",
              "      <td>17.000000</td>\n",
              "      <td>3.000000</td>\n",
              "      <td>1.000000</td>\n",
              "      <td>0.000000</td>\n",
              "      <td>2.000000</td>\n",
              "      <td>0.000000</td>\n",
              "      <td>4.000000</td>\n",
              "      <td>4.000000</td>\n",
              "      <td>11.000000</td>\n",
              "      <td>12.243752</td>\n",
              "      <td>13.36758</td>\n",
              "    </tr>\n",
              "    <tr>\n",
              "      <th>75%</th>\n",
              "      <td>1.000000</td>\n",
              "      <td>1.000000</td>\n",
              "      <td>18.000000</td>\n",
              "      <td>4.000000</td>\n",
              "      <td>1.000000</td>\n",
              "      <td>1.000000</td>\n",
              "      <td>2.000000</td>\n",
              "      <td>0.000000</td>\n",
              "      <td>5.000000</td>\n",
              "      <td>8.000000</td>\n",
              "      <td>13.000000</td>\n",
              "      <td>15.075698</td>\n",
              "      <td>16.47307</td>\n",
              "    </tr>\n",
              "    <tr>\n",
              "      <th>max</th>\n",
              "      <td>1.000000</td>\n",
              "      <td>1.000000</td>\n",
              "      <td>22.000000</td>\n",
              "      <td>5.000000</td>\n",
              "      <td>1.000000</td>\n",
              "      <td>1.000000</td>\n",
              "      <td>4.000000</td>\n",
              "      <td>3.000000</td>\n",
              "      <td>5.000000</td>\n",
              "      <td>75.000000</td>\n",
              "      <td>19.000000</td>\n",
              "      <td>20.000000</td>\n",
              "      <td>20.00000</td>\n",
              "    </tr>\n",
              "  </tbody>\n",
              "</table>\n",
              "</div>\n",
              "      <button class=\"colab-df-convert\" onclick=\"convertToInteractive('df-5d2a9169-fc76-4fca-8c8f-21fbfcd1a2bd')\"\n",
              "              title=\"Convert this dataframe to an interactive table.\"\n",
              "              style=\"display:none;\">\n",
              "        \n",
              "  <svg xmlns=\"http://www.w3.org/2000/svg\" height=\"24px\"viewBox=\"0 0 24 24\"\n",
              "       width=\"24px\">\n",
              "    <path d=\"M0 0h24v24H0V0z\" fill=\"none\"/>\n",
              "    <path d=\"M18.56 5.44l.94 2.06.94-2.06 2.06-.94-2.06-.94-.94-2.06-.94 2.06-2.06.94zm-11 1L8.5 8.5l.94-2.06 2.06-.94-2.06-.94L8.5 2.5l-.94 2.06-2.06.94zm10 10l.94 2.06.94-2.06 2.06-.94-2.06-.94-.94-2.06-.94 2.06-2.06.94z\"/><path d=\"M17.41 7.96l-1.37-1.37c-.4-.4-.92-.59-1.43-.59-.52 0-1.04.2-1.43.59L10.3 9.45l-7.72 7.72c-.78.78-.78 2.05 0 2.83L4 21.41c.39.39.9.59 1.41.59.51 0 1.02-.2 1.41-.59l7.78-7.78 2.81-2.81c.8-.78.8-2.07 0-2.86zM5.41 20L4 18.59l7.72-7.72 1.47 1.35L5.41 20z\"/>\n",
              "  </svg>\n",
              "      </button>\n",
              "      \n",
              "  <style>\n",
              "    .colab-df-container {\n",
              "      display:flex;\n",
              "      flex-wrap:wrap;\n",
              "      gap: 12px;\n",
              "    }\n",
              "\n",
              "    .colab-df-convert {\n",
              "      background-color: #E8F0FE;\n",
              "      border: none;\n",
              "      border-radius: 50%;\n",
              "      cursor: pointer;\n",
              "      display: none;\n",
              "      fill: #1967D2;\n",
              "      height: 32px;\n",
              "      padding: 0 0 0 0;\n",
              "      width: 32px;\n",
              "    }\n",
              "\n",
              "    .colab-df-convert:hover {\n",
              "      background-color: #E2EBFA;\n",
              "      box-shadow: 0px 1px 2px rgba(60, 64, 67, 0.3), 0px 1px 3px 1px rgba(60, 64, 67, 0.15);\n",
              "      fill: #174EA6;\n",
              "    }\n",
              "\n",
              "    [theme=dark] .colab-df-convert {\n",
              "      background-color: #3B4455;\n",
              "      fill: #D2E3FC;\n",
              "    }\n",
              "\n",
              "    [theme=dark] .colab-df-convert:hover {\n",
              "      background-color: #434B5C;\n",
              "      box-shadow: 0px 1px 3px 1px rgba(0, 0, 0, 0.15);\n",
              "      filter: drop-shadow(0px 1px 2px rgba(0, 0, 0, 0.3));\n",
              "      fill: #FFFFFF;\n",
              "    }\n",
              "  </style>\n",
              "\n",
              "      <script>\n",
              "        const buttonEl =\n",
              "          document.querySelector('#df-5d2a9169-fc76-4fca-8c8f-21fbfcd1a2bd button.colab-df-convert');\n",
              "        buttonEl.style.display =\n",
              "          google.colab.kernel.accessAllowed ? 'block' : 'none';\n",
              "\n",
              "        async function convertToInteractive(key) {\n",
              "          const element = document.querySelector('#df-5d2a9169-fc76-4fca-8c8f-21fbfcd1a2bd');\n",
              "          const dataTable =\n",
              "            await google.colab.kernel.invokeFunction('convertToInteractive',\n",
              "                                                     [key], {});\n",
              "          if (!dataTable) return;\n",
              "\n",
              "          const docLinkHtml = 'Like what you see? Visit the ' +\n",
              "            '<a target=\"_blank\" href=https://colab.research.google.com/notebooks/data_table.ipynb>data table notebook</a>'\n",
              "            + ' to learn more about interactive tables.';\n",
              "          element.innerHTML = '';\n",
              "          dataTable['output_type'] = 'display_data';\n",
              "          await google.colab.output.renderOutput(dataTable, element);\n",
              "          const docLink = document.createElement('div');\n",
              "          docLink.innerHTML = docLinkHtml;\n",
              "          element.appendChild(docLink);\n",
              "        }\n",
              "      </script>\n",
              "    </div>\n",
              "  </div>\n",
              "  "
            ]
          },
          "metadata": {},
          "execution_count": 13
        }
      ]
    },
    {
      "cell_type": "code",
      "source": [
        "# calculate Pearson's correlation\n",
        "corr, _ = pearsonr(df['G1'], df['G2'])\n",
        "print('Pearsons correlation: %.3f' % corr)"
      ],
      "metadata": {
        "colab": {
          "base_uri": "https://localhost:8080/"
        },
        "id": "01rRHN0rroCa",
        "outputId": "afeff372-afcc-4065-87e5-734503dd247b"
      },
      "execution_count": 14,
      "outputs": [
        {
          "output_type": "stream",
          "name": "stdout",
          "text": [
            "Pearsons correlation: 0.851\n"
          ]
        }
      ]
    },
    {
      "cell_type": "code",
      "source": [
        "df['school'].value_counts().plot(kind=\"pie\", autopct=\"%.2f\")\n",
        "plt.show()"
      ],
      "metadata": {
        "colab": {
          "base_uri": "https://localhost:8080/",
          "height": 248
        },
        "id": "NNrDkvVTKmNc",
        "outputId": "52a6f305-f0b1-4686-f9e2-76850f2178a4"
      },
      "execution_count": 15,
      "outputs": [
        {
          "output_type": "display_data",
          "data": {
            "text/plain": [
              "<Figure size 432x288 with 1 Axes>"
            ],
            "image/png": "[encoded data removed]"
          },
          "metadata": {}
        }
      ]
    },
    {
      "cell_type": "markdown",
      "source": [
        "88.35% of student from GP school"
      ],
      "metadata": {
        "id": "Xxvy5jLB4-ZC"
      }
    },
    {
      "cell_type": "code",
      "source": [
        "sns.countplot(x='Fjob',data=df)"
      ],
      "metadata": {
        "colab": {
          "base_uri": "https://localhost:8080/",
          "height": 297
        },
        "id": "2Cy8_7U_x6Vu",
        "outputId": "20237639-b7fc-4476-dda0-373fa3a4e119"
      },
      "execution_count": 16,
      "outputs": [
        {
          "output_type": "execute_result",
          "data": {
            "text/plain": [
              "<matplotlib.axes._subplots.AxesSubplot at 0x7f2e37c17e50>"
            ]
          },
          "metadata": {},
          "execution_count": 16
        },
        {
          "output_type": "display_data",
          "data": {
            "text/plain": [
              "<Figure size 432x288 with 1 Axes>"
            ],
            "image/png": "[encoded data removed]"
          },
          "metadata": {
            "needs_background": "light"
          }
        }
      ]
    },
    {
      "cell_type": "markdown",
      "source": [
        "show father's job"
      ],
      "metadata": {
        "id": "YOlD9wccMjb9"
      }
    },
    {
      "cell_type": "code",
      "source": [
        "plt.figure(figsize=(20,10))\n",
        "sns.catplot(x='school', hue='sex', col='age', data=df, kind='count', palette='flare')\n",
        "plt.show()"
      ],
      "metadata": {
        "colab": {
          "base_uri": "https://localhost:8080/",
          "height": 215
        },
        "id": "JbsdLS2Cq6BX",
        "outputId": "293f8cc2-e0e1-4f85-9f2b-d5ccb5f043fe"
      },
      "execution_count": 17,
      "outputs": [
        {
          "output_type": "display_data",
          "data": {
            "text/plain": [
              "<Figure size 1440x720 with 0 Axes>"
            ]
          },
          "metadata": {}
        },
        {
          "output_type": "display_data",
          "data": {
            "text/plain": [
              "<Figure size 2922.38x360 with 8 Axes>"
            ],
            "image/png": "[encoded data removed]"
          },
          "metadata": {
            "needs_background": "light"
          }
        }
      ]
    },
    {
      "cell_type": "code",
      "source": [
        "plt.bar(df['Fjob'], df['G1'])\n",
        "plt.title(\"Bar Chart\")\n",
        "plt.xlabel('Fjob')\n",
        "plt.ylabel('G1')\n",
        "plt.show()"
      ],
      "metadata": {
        "colab": {
          "base_uri": "https://localhost:8080/",
          "height": 296
        },
        "id": "9xZ9jIgYgL80",
        "outputId": "ce904c3b-0176-414f-e479-81f843da9c20"
      },
      "execution_count": 18,
      "outputs": [
        {
          "output_type": "display_data",
          "data": {
            "text/plain": [
              "<Figure size 432x288 with 1 Axes>"
            ],
            "image/png": "[encoded data removed]"
          },
          "metadata": {
            "needs_background": "light"
          }
        }
      ]
    },
    {
      "cell_type": "code",
      "source": [
        "plt.bar(df['Fjob'], df['G2'])\n",
        "plt.title(\"Bar Chart\")\n",
        "plt.xlabel('Fjob')\n",
        "plt.ylabel('G2')\n",
        "plt.show()"
      ],
      "metadata": {
        "colab": {
          "base_uri": "https://localhost:8080/",
          "height": 296
        },
        "id": "Q1liS4P1gwCx",
        "outputId": "04d6b99c-f9a0-4c7a-f723-9a7d8baa8a1d"
      },
      "execution_count": 19,
      "outputs": [
        {
          "output_type": "display_data",
          "data": {
            "text/plain": [
              "<Figure size 432x288 with 1 Axes>"
            ],
            "image/png": "[encoded data removed]"
          },
          "metadata": {
            "needs_background": "light"
          }
        }
      ]
    },
    {
      "cell_type": "code",
      "source": [
        "plt.bar(df['Fjob'], df['G3'])\n",
        "plt.title(\"Bar Chart\")\n",
        "plt.xlabel('Fjob')\n",
        "plt.ylabel('G3')\n",
        "plt.show()"
      ],
      "metadata": {
        "colab": {
          "base_uri": "https://localhost:8080/",
          "height": 296
        },
        "id": "ga4hdHB_gwZ8",
        "outputId": "f97ec006-decb-4c56-f37c-dece2e428efc"
      },
      "execution_count": 20,
      "outputs": [
        {
          "output_type": "display_data",
          "data": {
            "text/plain": [
              "<Figure size 432x288 with 1 Axes>"
            ],
            "image/png": "[encoded data removed]"
          },
          "metadata": {
            "needs_background": "light"
          }
        }
      ]
    },
    {
      "cell_type": "code",
      "source": [
        "plt.bar(df['Mjob'], df['G1'])\n",
        "plt.title(\"Bar Chart\")\n",
        "plt.xlabel('Mjob')\n",
        "plt.ylabel('G1')\n",
        "plt.show()"
      ],
      "metadata": {
        "colab": {
          "base_uri": "https://localhost:8080/",
          "height": 296
        },
        "id": "tWX_HoVygwut",
        "outputId": "1885a81f-2047-4b3e-f711-bcf2bdcad5ec"
      },
      "execution_count": 21,
      "outputs": [
        {
          "output_type": "display_data",
          "data": {
            "text/plain": [
              "<Figure size 432x288 with 1 Axes>"
            ],
            "image/png": "[encoded data removed]"
          },
          "metadata": {
            "needs_background": "light"
          }
        }
      ]
    },
    {
      "cell_type": "code",
      "source": [
        "plt.bar(df['Mjob'], df['G2'])\n",
        "plt.title(\"Bar Chart\")\n",
        "plt.xlabel('Mjob')\n",
        "plt.ylabel('G2')\n",
        "plt.show()"
      ],
      "metadata": {
        "colab": {
          "base_uri": "https://localhost:8080/",
          "height": 296
        },
        "id": "dAPRS0ZrgxEQ",
        "outputId": "6aabb6e7-813f-47df-a2a4-22bc84f5eb1e"
      },
      "execution_count": 22,
      "outputs": [
        {
          "output_type": "display_data",
          "data": {
            "text/plain": [
              "<Figure size 432x288 with 1 Axes>"
            ],
            "image/png": "[encoded data removed]"
          },
          "metadata": {
            "needs_background": "light"
          }
        }
      ]
    },
    {
      "cell_type": "code",
      "source": [
        "plt.bar(df['Mjob'], df['G3'])\n",
        "plt.title(\"Bar Chart\")\n",
        "plt.xlabel('Mjob')\n",
        "plt.ylabel('G3')\n",
        "plt.show()"
      ],
      "metadata": {
        "colab": {
          "base_uri": "https://localhost:8080/",
          "height": 296
        },
        "id": "XGwyY59igxc4",
        "outputId": "7127f2d7-1518-4675-f7cc-9fa0b0b1618d"
      },
      "execution_count": 23,
      "outputs": [
        {
          "output_type": "display_data",
          "data": {
            "text/plain": [
              "<Figure size 432x288 with 1 Axes>"
            ],
            "image/png": "[encoded data removed]"
          },
          "metadata": {
            "needs_background": "light"
          }
        }
      ]
    },
    {
      "cell_type": "code",
      "source": [
        "sns.barplot(x='internet',y='G1',hue='sex',data=df)"
      ],
      "metadata": {
        "colab": {
          "base_uri": "https://localhost:8080/",
          "height": 296
        },
        "id": "aR5aFKXyVQpA",
        "outputId": "1c2922b7-4448-464e-f75d-04b1ae8d5488"
      },
      "execution_count": 24,
      "outputs": [
        {
          "output_type": "execute_result",
          "data": {
            "text/plain": [
              "<matplotlib.axes._subplots.AxesSubplot at 0x7f2e40b17d30>"
            ]
          },
          "metadata": {},
          "execution_count": 24
        },
        {
          "output_type": "display_data",
          "data": {
            "text/plain": [
              "<Figure size 432x288 with 1 Axes>"
            ],
            "image/png": "[encoded data removed]"
          },
          "metadata": {
            "needs_background": "light"
          }
        }
      ]
    },
    {
      "cell_type": "code",
      "source": [
        "sns.barplot(x='internet',y='G2',hue='sex',data=df)"
      ],
      "metadata": {
        "colab": {
          "base_uri": "https://localhost:8080/",
          "height": 297
        },
        "id": "9Y-Jm11deLpk",
        "outputId": "0f8cf5ca-9218-4ee6-c834-ca2abfcca3bc"
      },
      "execution_count": 25,
      "outputs": [
        {
          "output_type": "execute_result",
          "data": {
            "text/plain": [
              "<matplotlib.axes._subplots.AxesSubplot at 0x7f2e34743850>"
            ]
          },
          "metadata": {},
          "execution_count": 25
        },
        {
          "output_type": "display_data",
          "data": {
            "text/plain": [
              "<Figure size 432x288 with 1 Axes>"
            ],
            "image/png": "[encoded data removed]"
          },
          "metadata": {
            "needs_background": "light"
          }
        }
      ]
    },
    {
      "cell_type": "code",
      "source": [
        "sns.barplot(x='internet',y='G3',hue='sex',data=df)"
      ],
      "metadata": {
        "colab": {
          "base_uri": "https://localhost:8080/",
          "height": 296
        },
        "id": "VaxivlS1eQYD",
        "outputId": "b3b8e775-5b47-4237-e034-62ceddc179f2"
      },
      "execution_count": 26,
      "outputs": [
        {
          "output_type": "execute_result",
          "data": {
            "text/plain": [
              "<matplotlib.axes._subplots.AxesSubplot at 0x7f2e34c21850>"
            ]
          },
          "metadata": {},
          "execution_count": 26
        },
        {
          "output_type": "display_data",
          "data": {
            "text/plain": [
              "<Figure size 432x288 with 1 Axes>"
            ],
            "image/png": "[encoded data removed]"
          },
          "metadata": {
            "needs_background": "light"
          }
        }
      ]
    },
    {
      "cell_type": "code",
      "source": [
        "sns.barplot(x='studytime',y='G1',hue='sex',data=df)"
      ],
      "metadata": {
        "colab": {
          "base_uri": "https://localhost:8080/",
          "height": 296
        },
        "id": "oiHI0snWez7G",
        "outputId": "873066f2-772f-4c3b-859c-9a7e30f7f0ea"
      },
      "execution_count": 27,
      "outputs": [
        {
          "output_type": "execute_result",
          "data": {
            "text/plain": [
              "<matplotlib.axes._subplots.AxesSubplot at 0x7f2e34c21820>"
            ]
          },
          "metadata": {},
          "execution_count": 27
        },
        {
          "output_type": "display_data",
          "data": {
            "text/plain": [
              "<Figure size 432x288 with 1 Axes>"
            ],
            "image/png": "[encoded data removed]"
          },
          "metadata": {
            "needs_background": "light"
          }
        }
      ]
    },
    {
      "cell_type": "code",
      "source": [
        "sns.barplot(x='studytime',y='G2',hue='sex',data=df)"
      ],
      "metadata": {
        "colab": {
          "base_uri": "https://localhost:8080/",
          "height": 296
        },
        "id": "C09AYRJ2e0YN",
        "outputId": "0f870ead-3c11-47f1-9655-907a5dded41e"
      },
      "execution_count": 28,
      "outputs": [
        {
          "output_type": "execute_result",
          "data": {
            "text/plain": [
              "<matplotlib.axes._subplots.AxesSubplot at 0x7f2e34add250>"
            ]
          },
          "metadata": {},
          "execution_count": 28
        },
        {
          "output_type": "display_data",
          "data": {
            "text/plain": [
              "<Figure size 432x288 with 1 Axes>"
            ],
            "image/png": "[encoded data removed]"
          },
          "metadata": {
            "needs_background": "light"
          }
        }
      ]
    },
    {
      "cell_type": "code",
      "source": [
        "sns.barplot(x='studytime',y='G3',hue='sex',data=df)"
      ],
      "metadata": {
        "colab": {
          "base_uri": "https://localhost:8080/",
          "height": 296
        },
        "id": "Qxlgb-nGe0wN",
        "outputId": "0da11397-dc6b-43bb-d2e8-e412a51f7924"
      },
      "execution_count": 29,
      "outputs": [
        {
          "output_type": "execute_result",
          "data": {
            "text/plain": [
              "<matplotlib.axes._subplots.AxesSubplot at 0x7f2e34ca9670>"
            ]
          },
          "metadata": {},
          "execution_count": 29
        },
        {
          "output_type": "display_data",
          "data": {
            "text/plain": [
              "<Figure size 432x288 with 1 Axes>"
            ],
            "image/png": "[encoded data removed]"
          },
          "metadata": {
            "needs_background": "light"
          }
        }
      ]
    },
    {
      "cell_type": "code",
      "source": [
        "sns.barplot(x='school',y='G1',hue='sex',data=df)"
      ],
      "metadata": {
        "colab": {
          "base_uri": "https://localhost:8080/",
          "height": 296
        },
        "id": "uB-WsBdxfNPV",
        "outputId": "9efcc5bc-b10a-4c81-ee3c-71408965e337"
      },
      "execution_count": 30,
      "outputs": [
        {
          "output_type": "execute_result",
          "data": {
            "text/plain": [
              "<matplotlib.axes._subplots.AxesSubplot at 0x7f2e375db340>"
            ]
          },
          "metadata": {},
          "execution_count": 30
        },
        {
          "output_type": "display_data",
          "data": {
            "text/plain": [
              "<Figure size 432x288 with 1 Axes>"
            ],
            "image/png": "[encoded data removed]"
          },
          "metadata": {
            "needs_background": "light"
          }
        }
      ]
    },
    {
      "cell_type": "code",
      "source": [
        "sns.barplot(x='school',y='G2',hue='sex',data=df)"
      ],
      "metadata": {
        "colab": {
          "base_uri": "https://localhost:8080/",
          "height": 298
        },
        "id": "gn-veoNpfN7h",
        "outputId": "8ae36f17-1674-496a-852a-3f4fe7647d3c"
      },
      "execution_count": 31,
      "outputs": [
        {
          "output_type": "execute_result",
          "data": {
            "text/plain": [
              "<matplotlib.axes._subplots.AxesSubplot at 0x7f2e375caee0>"
            ]
          },
          "metadata": {},
          "execution_count": 31
        },
        {
          "output_type": "display_data",
          "data": {
            "text/plain": [
              "<Figure size 432x288 with 1 Axes>"
            ],
            "image/png": "[encoded data removed]"
          },
          "metadata": {
            "needs_background": "light"
          }
        }
      ]
    },
    {
      "cell_type": "code",
      "source": [
        "sns.barplot(x='school',y='G3',hue='sex',data=df)\n"
      ],
      "metadata": {
        "colab": {
          "base_uri": "https://localhost:8080/",
          "height": 296
        },
        "id": "Wpimq5_jfORC",
        "outputId": "e469f9e7-cbc7-4928-9d43-14d99b735bbc"
      },
      "execution_count": 32,
      "outputs": [
        {
          "output_type": "execute_result",
          "data": {
            "text/plain": [
              "<matplotlib.axes._subplots.AxesSubplot at 0x7f2e34c6c9d0>"
            ]
          },
          "metadata": {},
          "execution_count": 32
        },
        {
          "output_type": "display_data",
          "data": {
            "text/plain": [
              "<Figure size 432x288 with 1 Axes>"
            ],
            "image/png": "[encoded data removed]"
          },
          "metadata": {
            "needs_background": "light"
          }
        }
      ]
    },
    {
      "cell_type": "code",
      "source": [
        "#make OneHotEncoder on columns Fjob and Mjob\n",
        "ahmed = OneHotEncoder()\n",
        "feature_array = ahmed.fit_transform(df[[\"Fjob\",\"Mjob\"]]).toarray()\n"
      ],
      "metadata": {
        "id": "DjHo_ppDGBMW"
      },
      "execution_count": 33,
      "outputs": []
    },
    {
      "cell_type": "code",
      "source": [
        "#get unique values from columns Fjob and Mjob and change their name that for father add F_ and for mother add M_\n",
        "feature_lable = ahmed.categories_\n",
        "feature_lable[0] = 'F_' + feature_lable[0]\n",
        "feature_lable[1] = 'M_' + feature_lable[1]"
      ],
      "metadata": {
        "id": "d2_hrK1SGBPG"
      },
      "execution_count": 34,
      "outputs": []
    },
    {
      "cell_type": "code",
      "source": [
        "#concat the two arrays into one array \n",
        "feature_lable =np.array(feature_lable).ravel()\n",
        "new_cols = pd.DataFrame(feature_array, columns= feature_lable)"
      ],
      "metadata": {
        "id": "i4rWkzZTB29C"
      },
      "execution_count": 35,
      "outputs": []
    },
    {
      "cell_type": "code",
      "source": [
        "df = pd.concat([df,new_cols],axis=1)"
      ],
      "metadata": {
        "id": "uI5ZdFiTGBQ9"
      },
      "execution_count": 36,
      "outputs": []
    },
    {
      "cell_type": "code",
      "source": [
        "df.drop(labels =['Fjob','Mjob'],inplace=True,axis=1)\n"
      ],
      "metadata": {
        "id": "Nq7GrO-d_kX-"
      },
      "execution_count": 37,
      "outputs": []
    },
    {
      "cell_type": "code",
      "source": [
        "sns.heatmap(df[['G1','G2','G3']].corr(),annot=True,cmap='coolwarm')"
      ],
      "metadata": {
        "colab": {
          "base_uri": "https://localhost:8080/",
          "height": 286
        },
        "id": "nTfvonzhzvUk",
        "outputId": "98efc45f-8ba5-47c6-c40b-64c8f51870a9"
      },
      "execution_count": 38,
      "outputs": [
        {
          "output_type": "execute_result",
          "data": {
            "text/plain": [
              "<matplotlib.axes._subplots.AxesSubplot at 0x7f2e3425e160>"
            ]
          },
          "metadata": {},
          "execution_count": 38
        },
        {
          "output_type": "display_data",
          "data": {
            "text/plain": [
              "<Figure size 432x288 with 2 Axes>"
            ],
            "image/png": "[encoded data removed]"
          },
          "metadata": {
            "needs_background": "light"
          }
        }
      ]
    },
    {
      "cell_type": "markdown",
      "source": [
        "correlation between exams"
      ],
      "metadata": {
        "id": "YnN6VyMlNGKF"
      }
    },
    {
      "cell_type": "code",
      "source": [
        "df.describe()"
      ],
      "metadata": {
        "colab": {
          "base_uri": "https://localhost:8080/",
          "height": 394
        },
        "id": "plr6FWVtBZiq",
        "outputId": "194e2705-628c-42dc-ffba-c5c4f556c1b3"
      },
      "execution_count": 39,
      "outputs": [
        {
          "output_type": "execute_result",
          "data": {
            "text/plain": [
              "           school         sex         age       goout    internet    romantic  \\\n",
              "count  395.000000  395.000000  395.000000  395.000000  395.000000  395.000000   \n",
              "mean     0.883544    0.473418   16.696203    3.108861    0.832911    0.334177   \n",
              "std      0.321177    0.499926    1.276043    1.113278    0.373528    0.472300   \n",
              "min      0.000000    0.000000   15.000000    1.000000    0.000000    0.000000   \n",
              "25%      1.000000    0.000000   16.000000    2.000000    1.000000    0.000000   \n",
              "50%      1.000000    0.000000   17.000000    3.000000    1.000000    0.000000   \n",
              "75%      1.000000    1.000000   18.000000    4.000000    1.000000    1.000000   \n",
              "max      1.000000    1.000000   22.000000    5.000000    1.000000    1.000000   \n",
              "\n",
              "        studytime    failures      health    absences  ...   F_at_home  \\\n",
              "count  395.000000  395.000000  395.000000  395.000000  ...  395.000000   \n",
              "mean     2.035443    0.334177    3.554430    5.708861  ...    0.050633   \n",
              "std      0.839240    0.743651    1.390303    8.003096  ...    0.219525   \n",
              "min      1.000000    0.000000    1.000000    0.000000  ...    0.000000   \n",
              "25%      1.000000    0.000000    3.000000    0.000000  ...    0.000000   \n",
              "50%      2.000000    0.000000    4.000000    4.000000  ...    0.000000   \n",
              "75%      2.000000    0.000000    5.000000    8.000000  ...    0.000000   \n",
              "max      4.000000    3.000000    5.000000   75.000000  ...    1.000000   \n",
              "\n",
              "         F_health     F_other  F_services   F_teacher   M_at_home    M_health  \\\n",
              "count  395.000000  395.000000  395.000000  395.000000  395.000000  395.000000   \n",
              "mean     0.045570    0.549367    0.281013    0.073418    0.149367    0.086076   \n",
              "std      0.208814    0.498188    0.450064    0.261152    0.356902    0.280832   \n",
              "min      0.000000    0.000000    0.000000    0.000000    0.000000    0.000000   \n",
              "25%      0.000000    0.000000    0.000000    0.000000    0.000000    0.000000   \n",
              "50%      0.000000    1.000000    0.000000    0.000000    0.000000    0.000000   \n",
              "75%      0.000000    1.000000    1.000000    0.000000    0.000000    0.000000   \n",
              "max      1.000000    1.000000    1.000000    1.000000    1.000000    1.000000   \n",
              "\n",
              "          M_other  M_services   M_teacher  \n",
              "count  395.000000  395.000000  395.000000  \n",
              "mean     0.356962    0.260759    0.146835  \n",
              "std      0.479711    0.439606    0.354391  \n",
              "min      0.000000    0.000000    0.000000  \n",
              "25%      0.000000    0.000000    0.000000  \n",
              "50%      0.000000    0.000000    0.000000  \n",
              "75%      1.000000    1.000000    0.000000  \n",
              "max      1.000000    1.000000    1.000000  \n",
              "\n",
              "[8 rows x 23 columns]"
            ],
            "text/html": [
              "\n",
              "  <div id=\"df-eaba687d-c757-44f9-8f3e-5c038823503e\">\n",
              "    <div class=\"colab-df-container\">\n",
              "      <div>\n",
              "<style scoped>\n",
              "    .dataframe tbody tr th:only-of-type {\n",
              "        vertical-align: middle;\n",
              "    }\n",
              "\n",
              "    .dataframe tbody tr th {\n",
              "        vertical-align: top;\n",
              "    }\n",
              "\n",
              "    .dataframe thead th {\n",
              "        text-align: right;\n",
              "    }\n",
              "</style>\n",
              "<table border=\"1\" class=\"dataframe\">\n",
              "  <thead>\n",
              "    <tr style=\"text-align: right;\">\n",
              "      <th></th>\n",
              "      <th>school</th>\n",
              "      <th>sex</th>\n",
              "      <th>age</th>\n",
              "      <th>goout</th>\n",
              "      <th>internet</th>\n",
              "      <th>romantic</th>\n",
              "      <th>studytime</th>\n",
              "      <th>failures</th>\n",
              "      <th>health</th>\n",
              "      <th>absences</th>\n",
              "      <th>...</th>\n",
              "      <th>F_at_home</th>\n",
              "      <th>F_health</th>\n",
              "      <th>F_other</th>\n",
              "      <th>F_services</th>\n",
              "      <th>F_teacher</th>\n",
              "      <th>M_at_home</th>\n",
              "      <th>M_health</th>\n",
              "      <th>M_other</th>\n",
              "      <th>M_services</th>\n",
              "      <th>M_teacher</th>\n",
              "    </tr>\n",
              "  </thead>\n",
              "  <tbody>\n",
              "    <tr>\n",
              "      <th>count</th>\n",
              "      <td>395.000000</td>\n",
              "      <td>395.000000</td>\n",
              "      <td>395.000000</td>\n",
              "      <td>395.000000</td>\n",
              "      <td>395.000000</td>\n",
              "      <td>395.000000</td>\n",
              "      <td>395.000000</td>\n",
              "      <td>395.000000</td>\n",
              "      <td>395.000000</td>\n",
              "      <td>395.000000</td>\n",
              "      <td>...</td>\n",
              "      <td>395.000000</td>\n",
              "      <td>395.000000</td>\n",
              "      <td>395.000000</td>\n",
              "      <td>395.000000</td>\n",
              "      <td>395.000000</td>\n",
              "      <td>395.000000</td>\n",
              "      <td>395.000000</td>\n",
              "      <td>395.000000</td>\n",
              "      <td>395.000000</td>\n",
              "      <td>395.000000</td>\n",
              "    </tr>\n",
              "    <tr>\n",
              "      <th>mean</th>\n",
              "      <td>0.883544</td>\n",
              "      <td>0.473418</td>\n",
              "      <td>16.696203</td>\n",
              "      <td>3.108861</td>\n",
              "      <td>0.832911</td>\n",
              "      <td>0.334177</td>\n",
              "      <td>2.035443</td>\n",
              "      <td>0.334177</td>\n",
              "      <td>3.554430</td>\n",
              "      <td>5.708861</td>\n",
              "      <td>...</td>\n",
              "      <td>0.050633</td>\n",
              "      <td>0.045570</td>\n",
              "      <td>0.549367</td>\n",
              "      <td>0.281013</td>\n",
              "      <td>0.073418</td>\n",
              "      <td>0.149367</td>\n",
              "      <td>0.086076</td>\n",
              "      <td>0.356962</td>\n",
              "      <td>0.260759</td>\n",
              "      <td>0.146835</td>\n",
              "    </tr>\n",
              "    <tr>\n",
              "      <th>std</th>\n",
              "      <td>0.321177</td>\n",
              "      <td>0.499926</td>\n",
              "      <td>1.276043</td>\n",
              "      <td>1.113278</td>\n",
              "      <td>0.373528</td>\n",
              "      <td>0.472300</td>\n",
              "      <td>0.839240</td>\n",
              "      <td>0.743651</td>\n",
              "      <td>1.390303</td>\n",
              "      <td>8.003096</td>\n",
              "      <td>...</td>\n",
              "      <td>0.219525</td>\n",
              "      <td>0.208814</td>\n",
              "      <td>0.498188</td>\n",
              "      <td>0.450064</td>\n",
              "      <td>0.261152</td>\n",
              "      <td>0.356902</td>\n",
              "      <td>0.280832</td>\n",
              "      <td>0.479711</td>\n",
              "      <td>0.439606</td>\n",
              "      <td>0.354391</td>\n",
              "    </tr>\n",
              "    <tr>\n",
              "      <th>min</th>\n",
              "      <td>0.000000</td>\n",
              "      <td>0.000000</td>\n",
              "      <td>15.000000</td>\n",
              "      <td>1.000000</td>\n",
              "      <td>0.000000</td>\n",
              "      <td>0.000000</td>\n",
              "      <td>1.000000</td>\n",
              "      <td>0.000000</td>\n",
              "      <td>1.000000</td>\n",
              "      <td>0.000000</td>\n",
              "      <td>...</td>\n",
              "      <td>0.000000</td>\n",
              "      <td>0.000000</td>\n",
              "      <td>0.000000</td>\n",
              "      <td>0.000000</td>\n",
              "      <td>0.000000</td>\n",
              "      <td>0.000000</td>\n",
              "      <td>0.000000</td>\n",
              "      <td>0.000000</td>\n",
              "      <td>0.000000</td>\n",
              "      <td>0.000000</td>\n",
              "    </tr>\n",
              "    <tr>\n",
              "      <th>25%</th>\n",
              "      <td>1.000000</td>\n",
              "      <td>0.000000</td>\n",
              "      <td>16.000000</td>\n",
              "      <td>2.000000</td>\n",
              "      <td>1.000000</td>\n",
              "      <td>0.000000</td>\n",
              "      <td>1.000000</td>\n",
              "      <td>0.000000</td>\n",
              "      <td>3.000000</td>\n",
              "      <td>0.000000</td>\n",
              "      <td>...</td>\n",
              "      <td>0.000000</td>\n",
              "      <td>0.000000</td>\n",
              "      <td>0.000000</td>\n",
              "      <td>0.000000</td>\n",
              "      <td>0.000000</td>\n",
              "      <td>0.000000</td>\n",
              "      <td>0.000000</td>\n",
              "      <td>0.000000</td>\n",
              "      <td>0.000000</td>\n",
              "      <td>0.000000</td>\n",
              "    </tr>\n",
              "    <tr>\n",
              "      <th>50%</th>\n",
              "      <td>1.000000</td>\n",
              "      <td>0.000000</td>\n",
              "      <td>17.000000</td>\n",
              "      <td>3.000000</td>\n",
              "      <td>1.000000</td>\n",
              "      <td>0.000000</td>\n",
              "      <td>2.000000</td>\n",
              "      <td>0.000000</td>\n",
              "      <td>4.000000</td>\n",
              "      <td>4.000000</td>\n",
              "      <td>...</td>\n",
              "      <td>0.000000</td>\n",
              "      <td>0.000000</td>\n",
              "      <td>1.000000</td>\n",
              "      <td>0.000000</td>\n",
              "      <td>0.000000</td>\n",
              "      <td>0.000000</td>\n",
              "      <td>0.000000</td>\n",
              "      <td>0.000000</td>\n",
              "      <td>0.000000</td>\n",
              "      <td>0.000000</td>\n",
              "    </tr>\n",
              "    <tr>\n",
              "      <th>75%</th>\n",
              "      <td>1.000000</td>\n",
              "      <td>1.000000</td>\n",
              "      <td>18.000000</td>\n",
              "      <td>4.000000</td>\n",
              "      <td>1.000000</td>\n",
              "      <td>1.000000</td>\n",
              "      <td>2.000000</td>\n",
              "      <td>0.000000</td>\n",
              "      <td>5.000000</td>\n",
              "      <td>8.000000</td>\n",
              "      <td>...</td>\n",
              "      <td>0.000000</td>\n",
              "      <td>0.000000</td>\n",
              "      <td>1.000000</td>\n",
              "      <td>1.000000</td>\n",
              "      <td>0.000000</td>\n",
              "      <td>0.000000</td>\n",
              "      <td>0.000000</td>\n",
              "      <td>1.000000</td>\n",
              "      <td>1.000000</td>\n",
              "      <td>0.000000</td>\n",
              "    </tr>\n",
              "    <tr>\n",
              "      <th>max</th>\n",
              "      <td>1.000000</td>\n",
              "      <td>1.000000</td>\n",
              "      <td>22.000000</td>\n",
              "      <td>5.000000</td>\n",
              "      <td>1.000000</td>\n",
              "      <td>1.000000</td>\n",
              "      <td>4.000000</td>\n",
              "      <td>3.000000</td>\n",
              "      <td>5.000000</td>\n",
              "      <td>75.000000</td>\n",
              "      <td>...</td>\n",
              "      <td>1.000000</td>\n",
              "      <td>1.000000</td>\n",
              "      <td>1.000000</td>\n",
              "      <td>1.000000</td>\n",
              "      <td>1.000000</td>\n",
              "      <td>1.000000</td>\n",
              "      <td>1.000000</td>\n",
              "      <td>1.000000</td>\n",
              "      <td>1.000000</td>\n",
              "      <td>1.000000</td>\n",
              "    </tr>\n",
              "  </tbody>\n",
              "</table>\n",
              "<p>8 rows × 23 columns</p>\n",
              "</div>\n",
              "      <button class=\"colab-df-convert\" onclick=\"convertToInteractive('df-eaba687d-c757-44f9-8f3e-5c038823503e')\"\n",
              "              title=\"Convert this dataframe to an interactive table.\"\n",
              "              style=\"display:none;\">\n",
              "        \n",
              "  <svg xmlns=\"http://www.w3.org/2000/svg\" height=\"24px\"viewBox=\"0 0 24 24\"\n",
              "       width=\"24px\">\n",
              "    <path d=\"M0 0h24v24H0V0z\" fill=\"none\"/>\n",
              "    <path d=\"M18.56 5.44l.94 2.06.94-2.06 2.06-.94-2.06-.94-.94-2.06-.94 2.06-2.06.94zm-11 1L8.5 8.5l.94-2.06 2.06-.94-2.06-.94L8.5 2.5l-.94 2.06-2.06.94zm10 10l.94 2.06.94-2.06 2.06-.94-2.06-.94-.94-2.06-.94 2.06-2.06.94z\"/><path d=\"M17.41 7.96l-1.37-1.37c-.4-.4-.92-.59-1.43-.59-.52 0-1.04.2-1.43.59L10.3 9.45l-7.72 7.72c-.78.78-.78 2.05 0 2.83L4 21.41c.39.39.9.59 1.41.59.51 0 1.02-.2 1.41-.59l7.78-7.78 2.81-2.81c.8-.78.8-2.07 0-2.86zM5.41 20L4 18.59l7.72-7.72 1.47 1.35L5.41 20z\"/>\n",
              "  </svg>\n",
              "      </button>\n",
              "      \n",
              "  <style>\n",
              "    .colab-df-container {\n",
              "      display:flex;\n",
              "      flex-wrap:wrap;\n",
              "      gap: 12px;\n",
              "    }\n",
              "\n",
              "    .colab-df-convert {\n",
              "      background-color: #E8F0FE;\n",
              "      border: none;\n",
              "      border-radius: 50%;\n",
              "      cursor: pointer;\n",
              "      display: none;\n",
              "      fill: #1967D2;\n",
              "      height: 32px;\n",
              "      padding: 0 0 0 0;\n",
              "      width: 32px;\n",
              "    }\n",
              "\n",
              "    .colab-df-convert:hover {\n",
              "      background-color: #E2EBFA;\n",
              "      box-shadow: 0px 1px 2px rgba(60, 64, 67, 0.3), 0px 1px 3px 1px rgba(60, 64, 67, 0.15);\n",
              "      fill: #174EA6;\n",
              "    }\n",
              "\n",
              "    [theme=dark] .colab-df-convert {\n",
              "      background-color: #3B4455;\n",
              "      fill: #D2E3FC;\n",
              "    }\n",
              "\n",
              "    [theme=dark] .colab-df-convert:hover {\n",
              "      background-color: #434B5C;\n",
              "      box-shadow: 0px 1px 3px 1px rgba(0, 0, 0, 0.15);\n",
              "      filter: drop-shadow(0px 1px 2px rgba(0, 0, 0, 0.3));\n",
              "      fill: #FFFFFF;\n",
              "    }\n",
              "  </style>\n",
              "\n",
              "      <script>\n",
              "        const buttonEl =\n",
              "          document.querySelector('#df-eaba687d-c757-44f9-8f3e-5c038823503e button.colab-df-convert');\n",
              "        buttonEl.style.display =\n",
              "          google.colab.kernel.accessAllowed ? 'block' : 'none';\n",
              "\n",
              "        async function convertToInteractive(key) {\n",
              "          const element = document.querySelector('#df-eaba687d-c757-44f9-8f3e-5c038823503e');\n",
              "          const dataTable =\n",
              "            await google.colab.kernel.invokeFunction('convertToInteractive',\n",
              "                                                     [key], {});\n",
              "          if (!dataTable) return;\n",
              "\n",
              "          const docLinkHtml = 'Like what you see? Visit the ' +\n",
              "            '<a target=\"_blank\" href=https://colab.research.google.com/notebooks/data_table.ipynb>data table notebook</a>'\n",
              "            + ' to learn more about interactive tables.';\n",
              "          element.innerHTML = '';\n",
              "          dataTable['output_type'] = 'display_data';\n",
              "          await google.colab.output.renderOutput(dataTable, element);\n",
              "          const docLink = document.createElement('div');\n",
              "          docLink.innerHTML = docLinkHtml;\n",
              "          element.appendChild(docLink);\n",
              "        }\n",
              "      </script>\n",
              "    </div>\n",
              "  </div>\n",
              "  "
            ]
          },
          "metadata": {},
          "execution_count": 39
        }
      ]
    },
    {
      "cell_type": "code",
      "source": [
        "sns.countplot(x='sex',data=df)"
      ],
      "metadata": {
        "colab": {
          "base_uri": "https://localhost:8080/",
          "height": 296
        },
        "id": "7ZybbOpFxuTH",
        "outputId": "9accf354-a91e-40da-8b36-5d901a04b873"
      },
      "execution_count": 40,
      "outputs": [
        {
          "output_type": "execute_result",
          "data": {
            "text/plain": [
              "<matplotlib.axes._subplots.AxesSubplot at 0x7f2e37d68bb0>"
            ]
          },
          "metadata": {},
          "execution_count": 40
        },
        {
          "output_type": "display_data",
          "data": {
            "text/plain": [
              "<Figure size 432x288 with 1 Axes>"
            ],
            "image/png": "[encoded data removed]"
          },
          "metadata": {
            "needs_background": "light"
          }
        }
      ]
    },
    {
      "cell_type": "markdown",
      "source": [
        "show number of males and females"
      ],
      "metadata": {
        "id": "Q6wLQ8rBPkXM"
      }
    },
    {
      "cell_type": "code",
      "source": [
        "sns.distplot(df[\"G1\"])"
      ],
      "metadata": {
        "colab": {
          "base_uri": "https://localhost:8080/",
          "height": 351
        },
        "id": "fp-Md_BwesGo",
        "outputId": "fc2b811f-43e4-46de-8f5c-a7ba40034f23"
      },
      "execution_count": 41,
      "outputs": [
        {
          "output_type": "stream",
          "name": "stderr",
          "text": [
            "/usr/local/lib/python3.8/dist-packages/seaborn/distributions.py:2619: FutureWarning: `distplot` is a deprecated function and will be removed in a future version. Please adapt your code to use either `displot` (a figure-level function with similar flexibility) or `histplot` (an axes-level function for histograms).\n",
            "  warnings.warn(msg, FutureWarning)\n"
          ]
        },
        {
          "output_type": "execute_result",
          "data": {
            "text/plain": [
              "<matplotlib.axes._subplots.AxesSubplot at 0x7f2e34c46fd0>"
            ]
          },
          "metadata": {},
          "execution_count": 41
        },
        {
          "output_type": "display_data",
          "data": {
            "text/plain": [
              "<Figure size 432x288 with 1 Axes>"
            ],
            "image/png": "[encoded data removed]"
          },
          "metadata": {
            "needs_background": "light"
          }
        }
      ]
    },
    {
      "cell_type": "markdown",
      "source": [
        "most of student get 10 in g1 exam"
      ],
      "metadata": {
        "id": "bemoQrcmReJK"
      }
    },
    {
      "cell_type": "code",
      "source": [
        "plot_boxplot(df, \"absences\")"
      ],
      "metadata": {
        "colab": {
          "base_uri": "https://localhost:8080/",
          "height": 265
        },
        "id": "BnAHQqZZEHHi",
        "outputId": "484cdec2-9e54-4636-cd47-cdc4b6355396"
      },
      "execution_count": 42,
      "outputs": [
        {
          "output_type": "display_data",
          "data": {
            "text/plain": [
              "<Figure size 432x288 with 1 Axes>"
            ],
            "image/png": "[encoded data removed]"
          },
          "metadata": {
            "needs_background": "light"
          }
        }
      ]
    },
    {
      "cell_type": "markdown",
      "source": [
        "show the col absence with outliers"
      ],
      "metadata": {
        "id": "RdURot4OP8vH"
      }
    },
    {
      "cell_type": "code",
      "source": [
        "plot_boxplot(df, \"G3\")"
      ],
      "metadata": {
        "colab": {
          "base_uri": "https://localhost:8080/",
          "height": 265
        },
        "id": "_yQiI4elEG_v",
        "outputId": "470a0590-a4da-4385-92ef-ed84840e4560"
      },
      "execution_count": 43,
      "outputs": [
        {
          "output_type": "display_data",
          "data": {
            "text/plain": [
              "<Figure size 432x288 with 1 Axes>"
            ],
            "image/png": "[encoded data removed]"
          },
          "metadata": {
            "needs_background": "light"
          }
        }
      ]
    },
    {
      "cell_type": "markdown",
      "source": [
        "show the col G3 with outliers"
      ],
      "metadata": {
        "id": "Z--mD4_OQBTd"
      }
    },
    {
      "cell_type": "code",
      "source": [
        "df"
      ],
      "metadata": {
        "colab": {
          "base_uri": "https://localhost:8080/",
          "height": 488
        },
        "id": "wwpTFSfpYFdc",
        "outputId": "a9b6cff9-65d8-4e1a-806a-c4874d40b64a"
      },
      "execution_count": 44,
      "outputs": [
        {
          "output_type": "execute_result",
          "data": {
            "text/plain": [
              "     school  sex  age  goout  internet  romantic  studytime  failures  health  \\\n",
              "0         1    0   18      4         0         0          2         0       3   \n",
              "1         1    0   17      3         1         0          2         0       3   \n",
              "2         1    0   15      2         1         0          2         3       3   \n",
              "3         1    0   15      2         1         1          3         0       5   \n",
              "4         1    0   16      2         0         0          2         0       5   \n",
              "..      ...  ...  ...    ...       ...       ...        ...       ...     ...   \n",
              "390       0    1   20      4         0         0          2         2       4   \n",
              "391       0    1   17      5         1         0          1         0       2   \n",
              "392       0    1   21      3         0         0          1         3       3   \n",
              "393       0    1   18      1         1         0          1         0       5   \n",
              "394       0    1   19      3         1         0          1         0       5   \n",
              "\n",
              "     absences  ...  F_at_home  F_health  F_other  F_services  F_teacher  \\\n",
              "0           6  ...        0.0       0.0      0.0         0.0        1.0   \n",
              "1           4  ...        0.0       0.0      1.0         0.0        0.0   \n",
              "2          10  ...        0.0       0.0      1.0         0.0        0.0   \n",
              "3           2  ...        0.0       0.0      0.0         1.0        0.0   \n",
              "4           4  ...        0.0       0.0      1.0         0.0        0.0   \n",
              "..        ...  ...        ...       ...      ...         ...        ...   \n",
              "390        11  ...        0.0       0.0      0.0         1.0        0.0   \n",
              "391         3  ...        0.0       0.0      0.0         1.0        0.0   \n",
              "392         3  ...        0.0       0.0      1.0         0.0        0.0   \n",
              "393         0  ...        0.0       0.0      1.0         0.0        0.0   \n",
              "394         5  ...        1.0       0.0      0.0         0.0        0.0   \n",
              "\n",
              "     M_at_home  M_health  M_other  M_services  M_teacher  \n",
              "0          1.0       0.0      0.0         0.0        0.0  \n",
              "1          1.0       0.0      0.0         0.0        0.0  \n",
              "2          1.0       0.0      0.0         0.0        0.0  \n",
              "3          0.0       1.0      0.0         0.0        0.0  \n",
              "4          0.0       0.0      1.0         0.0        0.0  \n",
              "..         ...       ...      ...         ...        ...  \n",
              "390        0.0       0.0      0.0         1.0        0.0  \n",
              "391        0.0       0.0      0.0         1.0        0.0  \n",
              "392        0.0       0.0      1.0         0.0        0.0  \n",
              "393        0.0       0.0      0.0         1.0        0.0  \n",
              "394        0.0       0.0      1.0         0.0        0.0  \n",
              "\n",
              "[395 rows x 23 columns]"
            ],
            "text/html": [
              "\n",
              "  <div id=\"df-4ddfac2d-05f6-4f2a-9c04-dd3714ba6295\">\n",
              "    <div class=\"colab-df-container\">\n",
              "      <div>\n",
              "<style scoped>\n",
              "    .dataframe tbody tr th:only-of-type {\n",
              "        vertical-align: middle;\n",
              "    }\n",
              "\n",
              "    .dataframe tbody tr th {\n",
              "        vertical-align: top;\n",
              "    }\n",
              "\n",
              "    .dataframe thead th {\n",
              "        text-align: right;\n",
              "    }\n",
              "</style>\n",
              "<table border=\"1\" class=\"dataframe\">\n",
              "  <thead>\n",
              "    <tr style=\"text-align: right;\">\n",
              "      <th></th>\n",
              "      <th>school</th>\n",
              "      <th>sex</th>\n",
              "      <th>age</th>\n",
              "      <th>goout</th>\n",
              "      <th>internet</th>\n",
              "      <th>romantic</th>\n",
              "      <th>studytime</th>\n",
              "      <th>failures</th>\n",
              "      <th>health</th>\n",
              "      <th>absences</th>\n",
              "      <th>...</th>\n",
              "      <th>F_at_home</th>\n",
              "      <th>F_health</th>\n",
              "      <th>F_other</th>\n",
              "      <th>F_services</th>\n",
              "      <th>F_teacher</th>\n",
              "      <th>M_at_home</th>\n",
              "      <th>M_health</th>\n",
              "      <th>M_other</th>\n",
              "      <th>M_services</th>\n",
              "      <th>M_teacher</th>\n",
              "    </tr>\n",
              "  </thead>\n",
              "  <tbody>\n",
              "    <tr>\n",
              "      <th>0</th>\n",
              "      <td>1</td>\n",
              "      <td>0</td>\n",
              "      <td>18</td>\n",
              "      <td>4</td>\n",
              "      <td>0</td>\n",
              "      <td>0</td>\n",
              "      <td>2</td>\n",
              "      <td>0</td>\n",
              "      <td>3</td>\n",
              "      <td>6</td>\n",
              "      <td>...</td>\n",
              "      <td>0.0</td>\n",
              "      <td>0.0</td>\n",
              "      <td>0.0</td>\n",
              "      <td>0.0</td>\n",
              "      <td>1.0</td>\n",
              "      <td>1.0</td>\n",
              "      <td>0.0</td>\n",
              "      <td>0.0</td>\n",
              "      <td>0.0</td>\n",
              "      <td>0.0</td>\n",
              "    </tr>\n",
              "    <tr>\n",
              "      <th>1</th>\n",
              "      <td>1</td>\n",
              "      <td>0</td>\n",
              "      <td>17</td>\n",
              "      <td>3</td>\n",
              "      <td>1</td>\n",
              "      <td>0</td>\n",
              "      <td>2</td>\n",
              "      <td>0</td>\n",
              "      <td>3</td>\n",
              "      <td>4</td>\n",
              "      <td>...</td>\n",
              "      <td>0.0</td>\n",
              "      <td>0.0</td>\n",
              "      <td>1.0</td>\n",
              "      <td>0.0</td>\n",
              "      <td>0.0</td>\n",
              "      <td>1.0</td>\n",
              "      <td>0.0</td>\n",
              "      <td>0.0</td>\n",
              "      <td>0.0</td>\n",
              "      <td>0.0</td>\n",
              "    </tr>\n",
              "    <tr>\n",
              "      <th>2</th>\n",
              "      <td>1</td>\n",
              "      <td>0</td>\n",
              "      <td>15</td>\n",
              "      <td>2</td>\n",
              "      <td>1</td>\n",
              "      <td>0</td>\n",
              "      <td>2</td>\n",
              "      <td>3</td>\n",
              "      <td>3</td>\n",
              "      <td>10</td>\n",
              "      <td>...</td>\n",
              "      <td>0.0</td>\n",
              "      <td>0.0</td>\n",
              "      <td>1.0</td>\n",
              "      <td>0.0</td>\n",
              "      <td>0.0</td>\n",
              "      <td>1.0</td>\n",
              "      <td>0.0</td>\n",
              "      <td>0.0</td>\n",
              "      <td>0.0</td>\n",
              "      <td>0.0</td>\n",
              "    </tr>\n",
              "    <tr>\n",
              "      <th>3</th>\n",
              "      <td>1</td>\n",
              "      <td>0</td>\n",
              "      <td>15</td>\n",
              "      <td>2</td>\n",
              "      <td>1</td>\n",
              "      <td>1</td>\n",
              "      <td>3</td>\n",
              "      <td>0</td>\n",
              "      <td>5</td>\n",
              "      <td>2</td>\n",
              "      <td>...</td>\n",
              "      <td>0.0</td>\n",
              "      <td>0.0</td>\n",
              "      <td>0.0</td>\n",
              "      <td>1.0</td>\n",
              "      <td>0.0</td>\n",
              "      <td>0.0</td>\n",
              "      <td>1.0</td>\n",
              "      <td>0.0</td>\n",
              "      <td>0.0</td>\n",
              "      <td>0.0</td>\n",
              "    </tr>\n",
              "    <tr>\n",
              "      <th>4</th>\n",
              "      <td>1</td>\n",
              "      <td>0</td>\n",
              "      <td>16</td>\n",
              "      <td>2</td>\n",
              "      <td>0</td>\n",
              "      <td>0</td>\n",
              "      <td>2</td>\n",
              "      <td>0</td>\n",
              "      <td>5</td>\n",
              "      <td>4</td>\n",
              "      <td>...</td>\n",
              "      <td>0.0</td>\n",
              "      <td>0.0</td>\n",
              "      <td>1.0</td>\n",
              "      <td>0.0</td>\n",
              "      <td>0.0</td>\n",
              "      <td>0.0</td>\n",
              "      <td>0.0</td>\n",
              "      <td>1.0</td>\n",
              "      <td>0.0</td>\n",
              "      <td>0.0</td>\n",
              "    </tr>\n",
              "    <tr>\n",
              "      <th>...</th>\n",
              "      <td>...</td>\n",
              "      <td>...</td>\n",
              "      <td>...</td>\n",
              "      <td>...</td>\n",
              "      <td>...</td>\n",
              "      <td>...</td>\n",
              "      <td>...</td>\n",
              "      <td>...</td>\n",
              "      <td>...</td>\n",
              "      <td>...</td>\n",
              "      <td>...</td>\n",
              "      <td>...</td>\n",
              "      <td>...</td>\n",
              "      <td>...</td>\n",
              "      <td>...</td>\n",
              "      <td>...</td>\n",
              "      <td>...</td>\n",
              "      <td>...</td>\n",
              "      <td>...</td>\n",
              "      <td>...</td>\n",
              "      <td>...</td>\n",
              "    </tr>\n",
              "    <tr>\n",
              "      <th>390</th>\n",
              "      <td>0</td>\n",
              "      <td>1</td>\n",
              "      <td>20</td>\n",
              "      <td>4</td>\n",
              "      <td>0</td>\n",
              "      <td>0</td>\n",
              "      <td>2</td>\n",
              "      <td>2</td>\n",
              "      <td>4</td>\n",
              "      <td>11</td>\n",
              "      <td>...</td>\n",
              "      <td>0.0</td>\n",
              "      <td>0.0</td>\n",
              "      <td>0.0</td>\n",
              "      <td>1.0</td>\n",
              "      <td>0.0</td>\n",
              "      <td>0.0</td>\n",
              "      <td>0.0</td>\n",
              "      <td>0.0</td>\n",
              "      <td>1.0</td>\n",
              "      <td>0.0</td>\n",
              "    </tr>\n",
              "    <tr>\n",
              "      <th>391</th>\n",
              "      <td>0</td>\n",
              "      <td>1</td>\n",
              "      <td>17</td>\n",
              "      <td>5</td>\n",
              "      <td>1</td>\n",
              "      <td>0</td>\n",
              "      <td>1</td>\n",
              "      <td>0</td>\n",
              "      <td>2</td>\n",
              "      <td>3</td>\n",
              "      <td>...</td>\n",
              "      <td>0.0</td>\n",
              "      <td>0.0</td>\n",
              "      <td>0.0</td>\n",
              "      <td>1.0</td>\n",
              "      <td>0.0</td>\n",
              "      <td>0.0</td>\n",
              "      <td>0.0</td>\n",
              "      <td>0.0</td>\n",
              "      <td>1.0</td>\n",
              "      <td>0.0</td>\n",
              "    </tr>\n",
              "    <tr>\n",
              "      <th>392</th>\n",
              "      <td>0</td>\n",
              "      <td>1</td>\n",
              "      <td>21</td>\n",
              "      <td>3</td>\n",
              "      <td>0</td>\n",
              "      <td>0</td>\n",
              "      <td>1</td>\n",
              "      <td>3</td>\n",
              "      <td>3</td>\n",
              "      <td>3</td>\n",
              "      <td>...</td>\n",
              "      <td>0.0</td>\n",
              "      <td>0.0</td>\n",
              "      <td>1.0</td>\n",
              "      <td>0.0</td>\n",
              "      <td>0.0</td>\n",
              "      <td>0.0</td>\n",
              "      <td>0.0</td>\n",
              "      <td>1.0</td>\n",
              "      <td>0.0</td>\n",
              "      <td>0.0</td>\n",
              "    </tr>\n",
              "    <tr>\n",
              "      <th>393</th>\n",
              "      <td>0</td>\n",
              "      <td>1</td>\n",
              "      <td>18</td>\n",
              "      <td>1</td>\n",
              "      <td>1</td>\n",
              "      <td>0</td>\n",
              "      <td>1</td>\n",
              "      <td>0</td>\n",
              "      <td>5</td>\n",
              "      <td>0</td>\n",
              "      <td>...</td>\n",
              "      <td>0.0</td>\n",
              "      <td>0.0</td>\n",
              "      <td>1.0</td>\n",
              "      <td>0.0</td>\n",
              "      <td>0.0</td>\n",
              "      <td>0.0</td>\n",
              "      <td>0.0</td>\n",
              "      <td>0.0</td>\n",
              "      <td>1.0</td>\n",
              "      <td>0.0</td>\n",
              "    </tr>\n",
              "    <tr>\n",
              "      <th>394</th>\n",
              "      <td>0</td>\n",
              "      <td>1</td>\n",
              "      <td>19</td>\n",
              "      <td>3</td>\n",
              "      <td>1</td>\n",
              "      <td>0</td>\n",
              "      <td>1</td>\n",
              "      <td>0</td>\n",
              "      <td>5</td>\n",
              "      <td>5</td>\n",
              "      <td>...</td>\n",
              "      <td>1.0</td>\n",
              "      <td>0.0</td>\n",
              "      <td>0.0</td>\n",
              "      <td>0.0</td>\n",
              "      <td>0.0</td>\n",
              "      <td>0.0</td>\n",
              "      <td>0.0</td>\n",
              "      <td>1.0</td>\n",
              "      <td>0.0</td>\n",
              "      <td>0.0</td>\n",
              "    </tr>\n",
              "  </tbody>\n",
              "</table>\n",
              "<p>395 rows × 23 columns</p>\n",
              "</div>\n",
              "      <button class=\"colab-df-convert\" onclick=\"convertToInteractive('df-4ddfac2d-05f6-4f2a-9c04-dd3714ba6295')\"\n",
              "              title=\"Convert this dataframe to an interactive table.\"\n",
              "              style=\"display:none;\">\n",
              "        \n",
              "  <svg xmlns=\"http://www.w3.org/2000/svg\" height=\"24px\"viewBox=\"0 0 24 24\"\n",
              "       width=\"24px\">\n",
              "    <path d=\"M0 0h24v24H0V0z\" fill=\"none\"/>\n",
              "    <path d=\"M18.56 5.44l.94 2.06.94-2.06 2.06-.94-2.06-.94-.94-2.06-.94 2.06-2.06.94zm-11 1L8.5 8.5l.94-2.06 2.06-.94-2.06-.94L8.5 2.5l-.94 2.06-2.06.94zm10 10l.94 2.06.94-2.06 2.06-.94-2.06-.94-.94-2.06-.94 2.06-2.06.94z\"/><path d=\"M17.41 7.96l-1.37-1.37c-.4-.4-.92-.59-1.43-.59-.52 0-1.04.2-1.43.59L10.3 9.45l-7.72 7.72c-.78.78-.78 2.05 0 2.83L4 21.41c.39.39.9.59 1.41.59.51 0 1.02-.2 1.41-.59l7.78-7.78 2.81-2.81c.8-.78.8-2.07 0-2.86zM5.41 20L4 18.59l7.72-7.72 1.47 1.35L5.41 20z\"/>\n",
              "  </svg>\n",
              "      </button>\n",
              "      \n",
              "  <style>\n",
              "    .colab-df-container {\n",
              "      display:flex;\n",
              "      flex-wrap:wrap;\n",
              "      gap: 12px;\n",
              "    }\n",
              "\n",
              "    .colab-df-convert {\n",
              "      background-color: #E8F0FE;\n",
              "      border: none;\n",
              "      border-radius: 50%;\n",
              "      cursor: pointer;\n",
              "      display: none;\n",
              "      fill: #1967D2;\n",
              "      height: 32px;\n",
              "      padding: 0 0 0 0;\n",
              "      width: 32px;\n",
              "    }\n",
              "\n",
              "    .colab-df-convert:hover {\n",
              "      background-color: #E2EBFA;\n",
              "      box-shadow: 0px 1px 2px rgba(60, 64, 67, 0.3), 0px 1px 3px 1px rgba(60, 64, 67, 0.15);\n",
              "      fill: #174EA6;\n",
              "    }\n",
              "\n",
              "    [theme=dark] .colab-df-convert {\n",
              "      background-color: #3B4455;\n",
              "      fill: #D2E3FC;\n",
              "    }\n",
              "\n",
              "    [theme=dark] .colab-df-convert:hover {\n",
              "      background-color: #434B5C;\n",
              "      box-shadow: 0px 1px 3px 1px rgba(0, 0, 0, 0.15);\n",
              "      filter: drop-shadow(0px 1px 2px rgba(0, 0, 0, 0.3));\n",
              "      fill: #FFFFFF;\n",
              "    }\n",
              "  </style>\n",
              "\n",
              "      <script>\n",
              "        const buttonEl =\n",
              "          document.querySelector('#df-4ddfac2d-05f6-4f2a-9c04-dd3714ba6295 button.colab-df-convert');\n",
              "        buttonEl.style.display =\n",
              "          google.colab.kernel.accessAllowed ? 'block' : 'none';\n",
              "\n",
              "        async function convertToInteractive(key) {\n",
              "          const element = document.querySelector('#df-4ddfac2d-05f6-4f2a-9c04-dd3714ba6295');\n",
              "          const dataTable =\n",
              "            await google.colab.kernel.invokeFunction('convertToInteractive',\n",
              "                                                     [key], {});\n",
              "          if (!dataTable) return;\n",
              "\n",
              "          const docLinkHtml = 'Like what you see? Visit the ' +\n",
              "            '<a target=\"_blank\" href=https://colab.research.google.com/notebooks/data_table.ipynb>data table notebook</a>'\n",
              "            + ' to learn more about interactive tables.';\n",
              "          element.innerHTML = '';\n",
              "          dataTable['output_type'] = 'display_data';\n",
              "          await google.colab.output.renderOutput(dataTable, element);\n",
              "          const docLink = document.createElement('div');\n",
              "          docLink.innerHTML = docLinkHtml;\n",
              "          element.appendChild(docLink);\n",
              "        }\n",
              "      </script>\n",
              "    </div>\n",
              "  </div>\n",
              "  "
            ]
          },
          "metadata": {},
          "execution_count": 44
        }
      ]
    },
    {
      "cell_type": "code",
      "source": [
        "#use outliers function on columns \n",
        "index_list = []\n",
        "for feature in [\"age\",\"goout\",\"studytime\",\"failures\",\"health\",\"absences\",\"G1\",\"G2\",\"G3\"]:\n",
        "  index_list.extend(outliars(df, feature))"
      ],
      "metadata": {
        "id": "qwuQroRiEG3o"
      },
      "execution_count": 45,
      "outputs": []
    },
    {
      "cell_type": "code",
      "source": [
        "df = remove_row(df, index_list)"
      ],
      "metadata": {
        "id": "3wdVNC5lFAUr"
      },
      "execution_count": 46,
      "outputs": []
    },
    {
      "cell_type": "markdown",
      "source": [
        "that show the deffernce between the data frame shape with and without outliars"
      ],
      "metadata": {
        "id": "dT0LxhFB36Jn"
      }
    },
    {
      "cell_type": "code",
      "source": [
        "df.shape"
      ],
      "metadata": {
        "colab": {
          "base_uri": "https://localhost:8080/"
        },
        "id": "y7JwrITVFATl",
        "outputId": "b7db0a27-20cf-4c1d-edec-9bc9bc6ddc73"
      },
      "execution_count": 47,
      "outputs": [
        {
          "output_type": "execute_result",
          "data": {
            "text/plain": [
              "(271, 23)"
            ]
          },
          "metadata": {},
          "execution_count": 47
        }
      ]
    },
    {
      "cell_type": "code",
      "source": [
        "plot_boxplot(df, \"G1\")"
      ],
      "metadata": {
        "colab": {
          "base_uri": "https://localhost:8080/",
          "height": 265
        },
        "id": "CEslon1wFAPe",
        "outputId": "cdec0e98-a868-4cb7-ccea-2403a47b24fa"
      },
      "execution_count": 48,
      "outputs": [
        {
          "output_type": "display_data",
          "data": {
            "text/plain": [
              "<Figure size 432x288 with 1 Axes>"
            ],
            "image/png": "[encoded data removed]"
          },
          "metadata": {
            "needs_background": "light"
          }
        }
      ]
    },
    {
      "cell_type": "markdown",
      "source": [
        "show g1 without outliers"
      ],
      "metadata": {
        "id": "Xe7bQ4r4QDRk"
      }
    },
    {
      "cell_type": "code",
      "source": [
        "sns.scatterplot(x='G1',y='G2',data=df)"
      ],
      "metadata": {
        "colab": {
          "base_uri": "https://localhost:8080/",
          "height": 296
        },
        "id": "yeKL5mKb0sRN",
        "outputId": "4ae51719-43ed-42f4-ee6d-7eb7bbbc1f10"
      },
      "execution_count": 49,
      "outputs": [
        {
          "output_type": "execute_result",
          "data": {
            "text/plain": [
              "<matplotlib.axes._subplots.AxesSubplot at 0x7f2e34a040d0>"
            ]
          },
          "metadata": {},
          "execution_count": 49
        },
        {
          "output_type": "display_data",
          "data": {
            "text/plain": [
              "<Figure size 432x288 with 1 Axes>"
            ],
            "image/png": "[encoded data removed]"
          },
          "metadata": {
            "needs_background": "light"
          }
        }
      ]
    },
    {
      "cell_type": "markdown",
      "source": [
        "show colleration between two exams before clustering"
      ],
      "metadata": {
        "id": "PketN38XR-u-"
      }
    },
    {
      "cell_type": "code",
      "source": [
        "#transform data to float data type\n",
        "df = df.astype(float)"
      ],
      "metadata": {
        "id": "n95_YDpIO-p3"
      },
      "execution_count": 50,
      "outputs": []
    },
    {
      "cell_type": "code",
      "source": [
        "#prepare data for kmean \n",
        "scaler = StandardScaler()\n",
        "df1 = scaler.fit_transform(df)"
      ],
      "metadata": {
        "id": "OEJKTEwKFAOA"
      },
      "execution_count": 51,
      "outputs": []
    },
    {
      "cell_type": "code",
      "source": [
        "optimise_k_mean(df1,10)"
      ],
      "metadata": {
        "colab": {
          "base_uri": "https://localhost:8080/",
          "height": 334
        },
        "id": "Ge4VhoCyjF8G",
        "outputId": "c5b460fc-e910-4589-8434-12c55c9b3ad2"
      },
      "execution_count": 52,
      "outputs": [
        {
          "output_type": "display_data",
          "data": {
            "text/plain": [
              "<Figure size 720x360 with 1 Axes>"
            ],
            "image/png": "[encoded data removed]"
          },
          "metadata": {
            "needs_background": "light"
          }
        }
      ]
    },
    {
      "cell_type": "markdown",
      "source": [
        "We couldn't specify the number of cluster so we used two cluster\n"
      ],
      "metadata": {
        "id": "2FP1iGjQLOHF"
      }
    },
    {
      "cell_type": "code",
      "source": [
        "#kmean\n",
        "Kmean = KMeans(n_clusters=2)\n",
        "Kmean.fit_predict(df1)\n",
        "s = (Kmean.labels_)\n",
        "dff = df.copy()"
      ],
      "metadata": {
        "id": "1xZ4qZ0h1D3L"
      },
      "execution_count": 53,
      "outputs": []
    },
    {
      "cell_type": "code",
      "source": [
        "#make a new column named k2 that has the result of kmean and added to data frame\n",
        "dff['k2'] = s"
      ],
      "metadata": {
        "id": "VkqqBdp4X0xv"
      },
      "execution_count": 54,
      "outputs": []
    },
    {
      "cell_type": "code",
      "source": [
        "plt.figure(figsize=(10,5))\n",
        "plt.scatter(dff[\"G1\"],dff[\"G2\"],c=dff[\"k2\"],cmap='rainbow')\n",
        "plt.xlim(0,20)\n",
        "plt.ylim(0,25)\n",
        "plt.show()"
      ],
      "metadata": {
        "colab": {
          "base_uri": "https://localhost:8080/",
          "height": 324
        },
        "id": "_NpnjcEuYpGv",
        "outputId": "bc7b2685-6c0e-48cb-fe48-0e5606d4265d"
      },
      "execution_count": 55,
      "outputs": [
        {
          "output_type": "display_data",
          "data": {
            "text/plain": [
              "<Figure size 720x360 with 1 Axes>"
            ],
            "image/png": "[encoded data removed]"
          },
          "metadata": {
            "needs_background": "light"
          }
        }
      ]
    },
    {
      "cell_type": "markdown",
      "source": [
        "show g1 and g2 after clustering"
      ],
      "metadata": {
        "id": "3iaMinoYSLq2"
      }
    },
    {
      "cell_type": "code",
      "source": [
        "dff"
      ],
      "metadata": {
        "colab": {
          "base_uri": "https://localhost:8080/",
          "height": 488
        },
        "id": "N4nndPs4mG5E",
        "outputId": "5222e5fb-7899-489e-9880-2739c41bb981"
      },
      "execution_count": 56,
      "outputs": [
        {
          "output_type": "execute_result",
          "data": {
            "text/plain": [
              "     school  sex   age  goout  internet  romantic  studytime  failures  \\\n",
              "0       1.0  0.0  18.0    4.0       0.0       0.0        2.0       0.0   \n",
              "1       1.0  0.0  17.0    3.0       1.0       0.0        2.0       0.0   \n",
              "3       1.0  0.0  15.0    2.0       1.0       1.0        3.0       0.0   \n",
              "4       1.0  0.0  16.0    2.0       0.0       0.0        2.0       0.0   \n",
              "5       1.0  1.0  16.0    2.0       1.0       0.0        2.0       0.0   \n",
              "..      ...  ...   ...    ...       ...       ...        ...       ...   \n",
              "386     0.0  0.0  18.0    3.0       1.0       1.0        1.0       0.0   \n",
              "388     0.0  0.0  18.0    4.0       1.0       0.0        2.0       0.0   \n",
              "391     0.0  1.0  17.0    5.0       1.0       0.0        1.0       0.0   \n",
              "393     0.0  1.0  18.0    1.0       1.0       0.0        1.0       0.0   \n",
              "394     0.0  1.0  19.0    3.0       1.0       0.0        1.0       0.0   \n",
              "\n",
              "     health  absences  ...  F_health  F_other  F_services  F_teacher  \\\n",
              "0       3.0       6.0  ...       0.0      0.0         0.0        1.0   \n",
              "1       3.0       4.0  ...       0.0      1.0         0.0        0.0   \n",
              "3       5.0       2.0  ...       0.0      0.0         1.0        0.0   \n",
              "4       5.0       4.0  ...       0.0      1.0         0.0        0.0   \n",
              "5       5.0      10.0  ...       0.0      1.0         0.0        0.0   \n",
              "..      ...       ...  ...       ...      ...         ...        ...   \n",
              "386     5.0       7.0  ...       0.0      0.0         0.0        0.0   \n",
              "388     1.0       0.0  ...       0.0      0.0         1.0        0.0   \n",
              "391     2.0       3.0  ...       0.0      0.0         1.0        0.0   \n",
              "393     5.0       0.0  ...       0.0      1.0         0.0        0.0   \n",
              "394     5.0       5.0  ...       0.0      0.0         0.0        0.0   \n",
              "\n",
              "     M_at_home  M_health  M_other  M_services  M_teacher  k2  \n",
              "0          1.0       0.0      0.0         0.0        0.0   0  \n",
              "1          1.0       0.0      0.0         0.0        0.0   0  \n",
              "3          0.0       1.0      0.0         0.0        0.0   1  \n",
              "4          0.0       0.0      1.0         0.0        0.0   0  \n",
              "5          0.0       0.0      0.0         1.0        0.0   1  \n",
              "..         ...       ...      ...         ...        ...  ..  \n",
              "386        0.0       0.0      0.0         0.0        1.0   0  \n",
              "388        0.0       0.0      0.0         0.0        1.0   0  \n",
              "391        0.0       0.0      0.0         1.0        0.0   1  \n",
              "393        0.0       0.0      0.0         1.0        0.0   1  \n",
              "394        0.0       0.0      1.0         0.0        0.0   0  \n",
              "\n",
              "[271 rows x 24 columns]"
            ],
            "text/html": [
              "\n",
              "  <div id=\"df-f888ea89-fed3-4fe7-9407-8a00b604da6b\">\n",
              "    <div class=\"colab-df-container\">\n",
              "      <div>\n",
              "<style scoped>\n",
              "    .dataframe tbody tr th:only-of-type {\n",
              "        vertical-align: middle;\n",
              "    }\n",
              "\n",
              "    .dataframe tbody tr th {\n",
              "        vertical-align: top;\n",
              "    }\n",
              "\n",
              "    .dataframe thead th {\n",
              "        text-align: right;\n",
              "    }\n",
              "</style>\n",
              "<table border=\"1\" class=\"dataframe\">\n",
              "  <thead>\n",
              "    <tr style=\"text-align: right;\">\n",
              "      <th></th>\n",
              "      <th>school</th>\n",
              "      <th>sex</th>\n",
              "      <th>age</th>\n",
              "      <th>goout</th>\n",
              "      <th>internet</th>\n",
              "      <th>romantic</th>\n",
              "      <th>studytime</th>\n",
              "      <th>failures</th>\n",
              "      <th>health</th>\n",
              "      <th>absences</th>\n",
              "      <th>...</th>\n",
              "      <th>F_health</th>\n",
              "      <th>F_other</th>\n",
              "      <th>F_services</th>\n",
              "      <th>F_teacher</th>\n",
              "      <th>M_at_home</th>\n",
              "      <th>M_health</th>\n",
              "      <th>M_other</th>\n",
              "      <th>M_services</th>\n",
              "      <th>M_teacher</th>\n",
              "      <th>k2</th>\n",
              "    </tr>\n",
              "  </thead>\n",
              "  <tbody>\n",
              "    <tr>\n",
              "      <th>0</th>\n",
              "      <td>1.0</td>\n",
              "      <td>0.0</td>\n",
              "      <td>18.0</td>\n",
              "      <td>4.0</td>\n",
              "      <td>0.0</td>\n",
              "      <td>0.0</td>\n",
              "      <td>2.0</td>\n",
              "      <td>0.0</td>\n",
              "      <td>3.0</td>\n",
              "      <td>6.0</td>\n",
              "      <td>...</td>\n",
              "      <td>0.0</td>\n",
              "      <td>0.0</td>\n",
              "      <td>0.0</td>\n",
              "      <td>1.0</td>\n",
              "      <td>1.0</td>\n",
              "      <td>0.0</td>\n",
              "      <td>0.0</td>\n",
              "      <td>0.0</td>\n",
              "      <td>0.0</td>\n",
              "      <td>0</td>\n",
              "    </tr>\n",
              "    <tr>\n",
              "      <th>1</th>\n",
              "      <td>1.0</td>\n",
              "      <td>0.0</td>\n",
              "      <td>17.0</td>\n",
              "      <td>3.0</td>\n",
              "      <td>1.0</td>\n",
              "      <td>0.0</td>\n",
              "      <td>2.0</td>\n",
              "      <td>0.0</td>\n",
              "      <td>3.0</td>\n",
              "      <td>4.0</td>\n",
              "      <td>...</td>\n",
              "      <td>0.0</td>\n",
              "      <td>1.0</td>\n",
              "      <td>0.0</td>\n",
              "      <td>0.0</td>\n",
              "      <td>1.0</td>\n",
              "      <td>0.0</td>\n",
              "      <td>0.0</td>\n",
              "      <td>0.0</td>\n",
              "      <td>0.0</td>\n",
              "      <td>0</td>\n",
              "    </tr>\n",
              "    <tr>\n",
              "      <th>3</th>\n",
              "      <td>1.0</td>\n",
              "      <td>0.0</td>\n",
              "      <td>15.0</td>\n",
              "      <td>2.0</td>\n",
              "      <td>1.0</td>\n",
              "      <td>1.0</td>\n",
              "      <td>3.0</td>\n",
              "      <td>0.0</td>\n",
              "      <td>5.0</td>\n",
              "      <td>2.0</td>\n",
              "      <td>...</td>\n",
              "      <td>0.0</td>\n",
              "      <td>0.0</td>\n",
              "      <td>1.0</td>\n",
              "      <td>0.0</td>\n",
              "      <td>0.0</td>\n",
              "      <td>1.0</td>\n",
              "      <td>0.0</td>\n",
              "      <td>0.0</td>\n",
              "      <td>0.0</td>\n",
              "      <td>1</td>\n",
              "    </tr>\n",
              "    <tr>\n",
              "      <th>4</th>\n",
              "      <td>1.0</td>\n",
              "      <td>0.0</td>\n",
              "      <td>16.0</td>\n",
              "      <td>2.0</td>\n",
              "      <td>0.0</td>\n",
              "      <td>0.0</td>\n",
              "      <td>2.0</td>\n",
              "      <td>0.0</td>\n",
              "      <td>5.0</td>\n",
              "      <td>4.0</td>\n",
              "      <td>...</td>\n",
              "      <td>0.0</td>\n",
              "      <td>1.0</td>\n",
              "      <td>0.0</td>\n",
              "      <td>0.0</td>\n",
              "      <td>0.0</td>\n",
              "      <td>0.0</td>\n",
              "      <td>1.0</td>\n",
              "      <td>0.0</td>\n",
              "      <td>0.0</td>\n",
              "      <td>0</td>\n",
              "    </tr>\n",
              "    <tr>\n",
              "      <th>5</th>\n",
              "      <td>1.0</td>\n",
              "      <td>1.0</td>\n",
              "      <td>16.0</td>\n",
              "      <td>2.0</td>\n",
              "      <td>1.0</td>\n",
              "      <td>0.0</td>\n",
              "      <td>2.0</td>\n",
              "      <td>0.0</td>\n",
              "      <td>5.0</td>\n",
              "      <td>10.0</td>\n",
              "      <td>...</td>\n",
              "      <td>0.0</td>\n",
              "      <td>1.0</td>\n",
              "      <td>0.0</td>\n",
              "      <td>0.0</td>\n",
              "      <td>0.0</td>\n",
              "      <td>0.0</td>\n",
              "      <td>0.0</td>\n",
              "      <td>1.0</td>\n",
              "      <td>0.0</td>\n",
              "      <td>1</td>\n",
              "    </tr>\n",
              "    <tr>\n",
              "      <th>...</th>\n",
              "      <td>...</td>\n",
              "      <td>...</td>\n",
              "      <td>...</td>\n",
              "      <td>...</td>\n",
              "      <td>...</td>\n",
              "      <td>...</td>\n",
              "      <td>...</td>\n",
              "      <td>...</td>\n",
              "      <td>...</td>\n",
              "      <td>...</td>\n",
              "      <td>...</td>\n",
              "      <td>...</td>\n",
              "      <td>...</td>\n",
              "      <td>...</td>\n",
              "      <td>...</td>\n",
              "      <td>...</td>\n",
              "      <td>...</td>\n",
              "      <td>...</td>\n",
              "      <td>...</td>\n",
              "      <td>...</td>\n",
              "      <td>...</td>\n",
              "    </tr>\n",
              "    <tr>\n",
              "      <th>386</th>\n",
              "      <td>0.0</td>\n",
              "      <td>0.0</td>\n",
              "      <td>18.0</td>\n",
              "      <td>3.0</td>\n",
              "      <td>1.0</td>\n",
              "      <td>1.0</td>\n",
              "      <td>1.0</td>\n",
              "      <td>0.0</td>\n",
              "      <td>5.0</td>\n",
              "      <td>7.0</td>\n",
              "      <td>...</td>\n",
              "      <td>0.0</td>\n",
              "      <td>0.0</td>\n",
              "      <td>0.0</td>\n",
              "      <td>0.0</td>\n",
              "      <td>0.0</td>\n",
              "      <td>0.0</td>\n",
              "      <td>0.0</td>\n",
              "      <td>0.0</td>\n",
              "      <td>1.0</td>\n",
              "      <td>0</td>\n",
              "    </tr>\n",
              "    <tr>\n",
              "      <th>388</th>\n",
              "      <td>0.0</td>\n",
              "      <td>0.0</td>\n",
              "      <td>18.0</td>\n",
              "      <td>4.0</td>\n",
              "      <td>1.0</td>\n",
              "      <td>0.0</td>\n",
              "      <td>2.0</td>\n",
              "      <td>0.0</td>\n",
              "      <td>1.0</td>\n",
              "      <td>0.0</td>\n",
              "      <td>...</td>\n",
              "      <td>0.0</td>\n",
              "      <td>0.0</td>\n",
              "      <td>1.0</td>\n",
              "      <td>0.0</td>\n",
              "      <td>0.0</td>\n",
              "      <td>0.0</td>\n",
              "      <td>0.0</td>\n",
              "      <td>0.0</td>\n",
              "      <td>1.0</td>\n",
              "      <td>0</td>\n",
              "    </tr>\n",
              "    <tr>\n",
              "      <th>391</th>\n",
              "      <td>0.0</td>\n",
              "      <td>1.0</td>\n",
              "      <td>17.0</td>\n",
              "      <td>5.0</td>\n",
              "      <td>1.0</td>\n",
              "      <td>0.0</td>\n",
              "      <td>1.0</td>\n",
              "      <td>0.0</td>\n",
              "      <td>2.0</td>\n",
              "      <td>3.0</td>\n",
              "      <td>...</td>\n",
              "      <td>0.0</td>\n",
              "      <td>0.0</td>\n",
              "      <td>1.0</td>\n",
              "      <td>0.0</td>\n",
              "      <td>0.0</td>\n",
              "      <td>0.0</td>\n",
              "      <td>0.0</td>\n",
              "      <td>1.0</td>\n",
              "      <td>0.0</td>\n",
              "      <td>1</td>\n",
              "    </tr>\n",
              "    <tr>\n",
              "      <th>393</th>\n",
              "      <td>0.0</td>\n",
              "      <td>1.0</td>\n",
              "      <td>18.0</td>\n",
              "      <td>1.0</td>\n",
              "      <td>1.0</td>\n",
              "      <td>0.0</td>\n",
              "      <td>1.0</td>\n",
              "      <td>0.0</td>\n",
              "      <td>5.0</td>\n",
              "      <td>0.0</td>\n",
              "      <td>...</td>\n",
              "      <td>0.0</td>\n",
              "      <td>1.0</td>\n",
              "      <td>0.0</td>\n",
              "      <td>0.0</td>\n",
              "      <td>0.0</td>\n",
              "      <td>0.0</td>\n",
              "      <td>0.0</td>\n",
              "      <td>1.0</td>\n",
              "      <td>0.0</td>\n",
              "      <td>1</td>\n",
              "    </tr>\n",
              "    <tr>\n",
              "      <th>394</th>\n",
              "      <td>0.0</td>\n",
              "      <td>1.0</td>\n",
              "      <td>19.0</td>\n",
              "      <td>3.0</td>\n",
              "      <td>1.0</td>\n",
              "      <td>0.0</td>\n",
              "      <td>1.0</td>\n",
              "      <td>0.0</td>\n",
              "      <td>5.0</td>\n",
              "      <td>5.0</td>\n",
              "      <td>...</td>\n",
              "      <td>0.0</td>\n",
              "      <td>0.0</td>\n",
              "      <td>0.0</td>\n",
              "      <td>0.0</td>\n",
              "      <td>0.0</td>\n",
              "      <td>0.0</td>\n",
              "      <td>1.0</td>\n",
              "      <td>0.0</td>\n",
              "      <td>0.0</td>\n",
              "      <td>0</td>\n",
              "    </tr>\n",
              "  </tbody>\n",
              "</table>\n",
              "<p>271 rows × 24 columns</p>\n",
              "</div>\n",
              "      <button class=\"colab-df-convert\" onclick=\"convertToInteractive('df-f888ea89-fed3-4fe7-9407-8a00b604da6b')\"\n",
              "              title=\"Convert this dataframe to an interactive table.\"\n",
              "              style=\"display:none;\">\n",
              "        \n",
              "  <svg xmlns=\"http://www.w3.org/2000/svg\" height=\"24px\"viewBox=\"0 0 24 24\"\n",
              "       width=\"24px\">\n",
              "    <path d=\"M0 0h24v24H0V0z\" fill=\"none\"/>\n",
              "    <path d=\"M18.56 5.44l.94 2.06.94-2.06 2.06-.94-2.06-.94-.94-2.06-.94 2.06-2.06.94zm-11 1L8.5 8.5l.94-2.06 2.06-.94-2.06-.94L8.5 2.5l-.94 2.06-2.06.94zm10 10l.94 2.06.94-2.06 2.06-.94-2.06-.94-.94-2.06-.94 2.06-2.06.94z\"/><path d=\"M17.41 7.96l-1.37-1.37c-.4-.4-.92-.59-1.43-.59-.52 0-1.04.2-1.43.59L10.3 9.45l-7.72 7.72c-.78.78-.78 2.05 0 2.83L4 21.41c.39.39.9.59 1.41.59.51 0 1.02-.2 1.41-.59l7.78-7.78 2.81-2.81c.8-.78.8-2.07 0-2.86zM5.41 20L4 18.59l7.72-7.72 1.47 1.35L5.41 20z\"/>\n",
              "  </svg>\n",
              "      </button>\n",
              "      \n",
              "  <style>\n",
              "    .colab-df-container {\n",
              "      display:flex;\n",
              "      flex-wrap:wrap;\n",
              "      gap: 12px;\n",
              "    }\n",
              "\n",
              "    .colab-df-convert {\n",
              "      background-color: #E8F0FE;\n",
              "      border: none;\n",
              "      border-radius: 50%;\n",
              "      cursor: pointer;\n",
              "      display: none;\n",
              "      fill: #1967D2;\n",
              "      height: 32px;\n",
              "      padding: 0 0 0 0;\n",
              "      width: 32px;\n",
              "    }\n",
              "\n",
              "    .colab-df-convert:hover {\n",
              "      background-color: #E2EBFA;\n",
              "      box-shadow: 0px 1px 2px rgba(60, 64, 67, 0.3), 0px 1px 3px 1px rgba(60, 64, 67, 0.15);\n",
              "      fill: #174EA6;\n",
              "    }\n",
              "\n",
              "    [theme=dark] .colab-df-convert {\n",
              "      background-color: #3B4455;\n",
              "      fill: #D2E3FC;\n",
              "    }\n",
              "\n",
              "    [theme=dark] .colab-df-convert:hover {\n",
              "      background-color: #434B5C;\n",
              "      box-shadow: 0px 1px 3px 1px rgba(0, 0, 0, 0.15);\n",
              "      filter: drop-shadow(0px 1px 2px rgba(0, 0, 0, 0.3));\n",
              "      fill: #FFFFFF;\n",
              "    }\n",
              "  </style>\n",
              "\n",
              "      <script>\n",
              "        const buttonEl =\n",
              "          document.querySelector('#df-f888ea89-fed3-4fe7-9407-8a00b604da6b button.colab-df-convert');\n",
              "        buttonEl.style.display =\n",
              "          google.colab.kernel.accessAllowed ? 'block' : 'none';\n",
              "\n",
              "        async function convertToInteractive(key) {\n",
              "          const element = document.querySelector('#df-f888ea89-fed3-4fe7-9407-8a00b604da6b');\n",
              "          const dataTable =\n",
              "            await google.colab.kernel.invokeFunction('convertToInteractive',\n",
              "                                                     [key], {});\n",
              "          if (!dataTable) return;\n",
              "\n",
              "          const docLinkHtml = 'Like what you see? Visit the ' +\n",
              "            '<a target=\"_blank\" href=https://colab.research.google.com/notebooks/data_table.ipynb>data table notebook</a>'\n",
              "            + ' to learn more about interactive tables.';\n",
              "          element.innerHTML = '';\n",
              "          dataTable['output_type'] = 'display_data';\n",
              "          await google.colab.output.renderOutput(dataTable, element);\n",
              "          const docLink = document.createElement('div');\n",
              "          docLink.innerHTML = docLinkHtml;\n",
              "          element.appendChild(docLink);\n",
              "        }\n",
              "      </script>\n",
              "    </div>\n",
              "  </div>\n",
              "  "
            ]
          },
          "metadata": {},
          "execution_count": 56
        }
      ]
    },
    {
      "cell_type": "markdown",
      "source": [
        "# ***senario 1***"
      ],
      "metadata": {
        "id": "m7PSKK0e8Joe"
      }
    },
    {
      "cell_type": "code",
      "source": [
        "#prepare data for cluster after kmean using the new column k2\n",
        "x1 = dff.iloc[:, :23]\n",
        "y1 = dff[\"k2\"]\n",
        "x1 = (x1 - x1.mean()) / x1.std()\n",
        "x_train,x_test,y_train,y_test = train_test(x1,y1)"
      ],
      "metadata": {
        "id": "0_LbD6MeZmY3",
        "colab": {
          "base_uri": "https://localhost:8080/"
        },
        "outputId": "cfc5ea9a-a33f-4a99-95d6-1e14e7d1e981"
      },
      "execution_count": 57,
      "outputs": [
        {
          "output_type": "stream",
          "name": "stderr",
          "text": [
            "/usr/local/lib/python3.8/dist-packages/sklearn/utils/extmath.py:985: RuntimeWarning: invalid value encountered in true_divide\n",
            "  updated_mean = (last_sum + new_sum) / updated_sample_count\n",
            "/usr/local/lib/python3.8/dist-packages/sklearn/utils/extmath.py:990: RuntimeWarning: invalid value encountered in true_divide\n",
            "  T = new_sum / new_sample_count\n",
            "/usr/local/lib/python3.8/dist-packages/sklearn/utils/extmath.py:1020: RuntimeWarning: invalid value encountered in true_divide\n",
            "  new_unnormalized_variance -= correction ** 2 / new_sample_count\n",
            "/usr/local/lib/python3.8/dist-packages/sklearn/utils/extmath.py:985: RuntimeWarning: invalid value encountered in true_divide\n",
            "  updated_mean = (last_sum + new_sum) / updated_sample_count\n",
            "/usr/local/lib/python3.8/dist-packages/sklearn/utils/extmath.py:990: RuntimeWarning: invalid value encountered in true_divide\n",
            "  T = new_sum / new_sample_count\n",
            "/usr/local/lib/python3.8/dist-packages/sklearn/utils/extmath.py:1020: RuntimeWarning: invalid value encountered in true_divide\n",
            "  new_unnormalized_variance -= correction ** 2 / new_sample_count\n"
          ]
        }
      ]
    },
    {
      "cell_type": "code",
      "source": [
        "logisticr(x_train,y_train,x_test,y_test)"
      ],
      "metadata": {
        "id": "60HZnNv9ZmNL",
        "colab": {
          "base_uri": "https://localhost:8080/"
        },
        "outputId": "aa611454-f53f-4a87-a218-d5a38ca6402c"
      },
      "execution_count": 58,
      "outputs": [
        {
          "output_type": "stream",
          "name": "stdout",
          "text": [
            "accuracy 97.05882352941177 %\n"
          ]
        }
      ]
    },
    {
      "cell_type": "code",
      "source": [
        "km(x_train,y_train,x_test,y_test)"
      ],
      "metadata": {
        "id": "SqCh48memH6Q",
        "colab": {
          "base_uri": "https://localhost:8080/"
        },
        "outputId": "e66033cf-2836-41d0-f187-3bb8cc39f3f0"
      },
      "execution_count": 59,
      "outputs": [
        {
          "output_type": "stream",
          "name": "stdout",
          "text": [
            "accuracy 86.76470588235294 %\n"
          ]
        }
      ]
    },
    {
      "cell_type": "code",
      "source": [
        "dtc(x_train,y_train,x_test,y_test)"
      ],
      "metadata": {
        "id": "l9IN1H2pmHWk",
        "colab": {
          "base_uri": "https://localhost:8080/"
        },
        "outputId": "4ef5d4b9-6111-4adc-b67a-74209aa7eda3"
      },
      "execution_count": 60,
      "outputs": [
        {
          "output_type": "stream",
          "name": "stdout",
          "text": [
            "accuracy 80.88235294117648 %\n"
          ]
        }
      ]
    },
    {
      "cell_type": "code",
      "source": [
        "svm(x_train,y_train,x_test,y_test)"
      ],
      "metadata": {
        "id": "akql8wtTmH0s",
        "colab": {
          "base_uri": "https://localhost:8080/"
        },
        "outputId": "47e253cf-8d71-4503-f17b-e8733a2d2c66"
      },
      "execution_count": 61,
      "outputs": [
        {
          "output_type": "stream",
          "name": "stdout",
          "text": [
            "accuracy 91.17647058823529 %\n"
          ]
        }
      ]
    },
    {
      "cell_type": "code",
      "source": [
        "forst(x_train,y_train,x_test,y_test)"
      ],
      "metadata": {
        "colab": {
          "base_uri": "https://localhost:8080/"
        },
        "id": "rd75mjbzIZFn",
        "outputId": "deb0d7a6-9f48-4075-c6c6-888fcc6a163a"
      },
      "execution_count": 62,
      "outputs": [
        {
          "output_type": "stream",
          "name": "stdout",
          "text": [
            "accuracy 85.29411764705883 %\n"
          ]
        }
      ]
    },
    {
      "cell_type": "code",
      "source": [
        "kn(x_train,y_train,x_test,y_test)"
      ],
      "metadata": {
        "colab": {
          "base_uri": "https://localhost:8080/"
        },
        "id": "IscBY0DOIY-x",
        "outputId": "b7a58760-5adc-4355-c937-240e46119754"
      },
      "execution_count": 63,
      "outputs": [
        {
          "output_type": "stream",
          "name": "stdout",
          "text": [
            "accuracy 95.58823529411765 %\n"
          ]
        }
      ]
    },
    {
      "cell_type": "markdown",
      "source": [
        "logistic is best accuracy"
      ],
      "metadata": {
        "id": "clqVBQPfqVpB"
      }
    },
    {
      "cell_type": "markdown",
      "source": [
        "# ***senario 2***"
      ],
      "metadata": {
        "id": "Z3At0tMj5r1k"
      }
    },
    {
      "cell_type": "code",
      "source": [
        "#prepare data for regression on G3 \n",
        "x2 = df.copy()\n",
        "x2.drop(labels =['G3'],inplace=True,axis=1)\n",
        "y2 = df.G3\n",
        "x2 = (x2 - x2.mean()) / x2.std()\n",
        "x_train1,x_test1,y_train1,y_test1 = train_test(x2,y2)\n",
        "x2 = np.nan_to_num(x2);"
      ],
      "metadata": {
        "id": "pDcoxbzfIY8M",
        "colab": {
          "base_uri": "https://localhost:8080/"
        },
        "outputId": "530cc1ca-e416-4ef3-98c0-127f5a49fe35"
      },
      "execution_count": 64,
      "outputs": [
        {
          "output_type": "stream",
          "name": "stderr",
          "text": [
            "/usr/local/lib/python3.8/dist-packages/sklearn/utils/extmath.py:985: RuntimeWarning: invalid value encountered in true_divide\n",
            "  updated_mean = (last_sum + new_sum) / updated_sample_count\n",
            "/usr/local/lib/python3.8/dist-packages/sklearn/utils/extmath.py:990: RuntimeWarning: invalid value encountered in true_divide\n",
            "  T = new_sum / new_sample_count\n",
            "/usr/local/lib/python3.8/dist-packages/sklearn/utils/extmath.py:1020: RuntimeWarning: invalid value encountered in true_divide\n",
            "  new_unnormalized_variance -= correction ** 2 / new_sample_count\n",
            "/usr/local/lib/python3.8/dist-packages/sklearn/utils/extmath.py:985: RuntimeWarning: invalid value encountered in true_divide\n",
            "  updated_mean = (last_sum + new_sum) / updated_sample_count\n",
            "/usr/local/lib/python3.8/dist-packages/sklearn/utils/extmath.py:990: RuntimeWarning: invalid value encountered in true_divide\n",
            "  T = new_sum / new_sample_count\n",
            "/usr/local/lib/python3.8/dist-packages/sklearn/utils/extmath.py:1020: RuntimeWarning: invalid value encountered in true_divide\n",
            "  new_unnormalized_variance -= correction ** 2 / new_sample_count\n"
          ]
        }
      ]
    },
    {
      "cell_type": "code",
      "source": [
        "#LinearRegression\n",
        "model_linreg = LinearRegression()\n",
        "model_linreg = model_linreg.fit(x_train1, y_train1)\n",
        "y_pred_linreg = model_linreg.predict(x_test1)\n",
        "\n",
        "mse = mean_squared_error(y_test1, y_pred_linreg)\n",
        "print('\\nMean squared error Testing Set:', round(mse, 2))\n",
        "\n",
        "mae = mean_absolute_error(y_test1, y_pred_linreg)\n",
        "print('Mean absolute error Testing Set:', round(mae, 2))\n",
        "\n",
        "rmse = np.sqrt(mse)\n",
        "print('Root Mean Squared Error Testing Set:', round(rmse, 2))"
      ],
      "metadata": {
        "id": "ha8lHp1rIY56",
        "colab": {
          "base_uri": "https://localhost:8080/"
        },
        "outputId": "2677a6c3-11d1-42ca-f80e-356901674323"
      },
      "execution_count": 65,
      "outputs": [
        {
          "output_type": "stream",
          "name": "stdout",
          "text": [
            "\n",
            "Mean squared error Testing Set: 1.63\n",
            "Mean absolute error Testing Set: 0.85\n",
            "Root Mean Squared Error Testing Set: 1.28\n"
          ]
        }
      ]
    },
    {
      "cell_type": "code",
      "source": [
        "#DecisionTreeRegression\n",
        "model_dtr = DecisionTreeRegressor(random_state=42)\n",
        "model_dtr = model_dtr.fit(x_train1, y_train1)\n",
        "y_pred_dtr = model_dtr.predict(x_test1)\n",
        "\n",
        "mse = mean_squared_error(y_test1, y_pred_dtr)\n",
        "print('\\nMean squared error Testing Set:', round(mse, 2))\n",
        "\n",
        "mae = mean_absolute_error(y_test1, y_pred_dtr)\n",
        "print('Mean absolute error Testing Set:', round(mae, 2))\n",
        "\n",
        "rmse = np.sqrt(mse)\n",
        "print('Root Mean Squared Error Testing Set:', round(rmse, 2))"
      ],
      "metadata": {
        "colab": {
          "base_uri": "https://localhost:8080/"
        },
        "id": "N7VBUpKrx7Br",
        "outputId": "045364e5-19fe-4cab-f5cc-1ea820a1f1cb"
      },
      "execution_count": 66,
      "outputs": [
        {
          "output_type": "stream",
          "name": "stdout",
          "text": [
            "\n",
            "Mean squared error Testing Set: 5.93\n",
            "Mean absolute error Testing Set: 1.42\n",
            "Root Mean Squared Error Testing Set: 2.44\n"
          ]
        }
      ]
    },
    {
      "cell_type": "code",
      "source": [
        "#RandomForestRegression\n",
        "model_rfr = RandomForestRegressor(random_state=42)\n",
        "model_rfr = model_rfr.fit(x_train1, y_train1)\n",
        "y_pred_rfr = model_rfr.predict(x_test1)\n",
        "\n",
        "\n",
        "mse = mean_squared_error(y_test1, y_pred_rfr)\n",
        "print('\\nMean squared error Testing Set:', round(mse, 2))\n",
        "\n",
        "mae = mean_absolute_error(y_test1, y_pred_rfr)\n",
        "print('Mean absolute error Testing Set:', round(mae, 2))\n",
        "\n",
        "rmse = np.sqrt(mse)\n",
        "print('Root Mean Squared Error Testing Set:', round(rmse, 2))"
      ],
      "metadata": {
        "colab": {
          "base_uri": "https://localhost:8080/"
        },
        "id": "dBbF9-I-x7ZZ",
        "outputId": "697ef16d-bde8-4cde-8ebd-47bb27e07dc1"
      },
      "execution_count": 67,
      "outputs": [
        {
          "output_type": "stream",
          "name": "stdout",
          "text": [
            "\n",
            "Mean squared error Testing Set: 1.78\n",
            "Mean absolute error Testing Set: 0.91\n",
            "Root Mean Squared Error Testing Set: 1.34\n"
          ]
        }
      ]
    },
    {
      "cell_type": "code",
      "source": [
        "#Ridge algorithm\n",
        "model_ridge = Ridge(random_state=42)\n",
        "model_ridge = model_ridge.fit(x_train1, y_train1)\n",
        "y_pred_ridge = model_ridge.predict(x_test1)\n",
        "\n",
        "mse = mean_squared_error(y_test1, y_pred_ridge)\n",
        "print('\\nMean squared error Testing Set:', round(mse, 2))\n",
        "\n",
        "mae = mean_absolute_error(y_test1, y_pred_ridge)\n",
        "print('Mean absolute error Testing Set:', round(mae, 2))\n",
        "\n",
        "rmse = np.sqrt(mse)\n",
        "print('Root Mean Squared Error Testing Set:', round(rmse, 2))"
      ],
      "metadata": {
        "colab": {
          "base_uri": "https://localhost:8080/"
        },
        "id": "Q99QE4X-x7wF",
        "outputId": "178072ea-da3e-44fc-fa04-fa6cba8472de"
      },
      "execution_count": 68,
      "outputs": [
        {
          "output_type": "stream",
          "name": "stdout",
          "text": [
            "\n",
            "Mean squared error Testing Set: 1.64\n",
            "Mean absolute error Testing Set: 0.85\n",
            "Root Mean Squared Error Testing Set: 1.28\n"
          ]
        }
      ]
    },
    {
      "cell_type": "code",
      "source": [
        "#this plot show deffrence between predict and real \n",
        "fig = plt.figure(figsize=(17, 10))\n",
        "\n",
        "plt.scatter(range(x2.shape[0]), model_ridge.predict(x2), marker='.', label='Predict')\n",
        "plt.scatter(range(x2.shape[0]), y2, color='red', label='Real')\n",
        "plt.legend(loc='best', prop={'size': 10})\n",
        "plt.show()"
      ],
      "metadata": {
        "colab": {
          "base_uri": "https://localhost:8080/",
          "height": 592
        },
        "id": "0ECwq61wx8EH",
        "outputId": "1542ce6f-77a1-41fa-822f-7b181eb5c64d"
      },
      "execution_count": 69,
      "outputs": [
        {
          "output_type": "display_data",
          "data": {
            "text/plain": [
              "<Figure size 1224x720 with 1 Axes>"
            ],
            "image/png": "[encoded data removed]"
          },
          "metadata": {
            "needs_background": "light"
          }
        }
      ]
    },
    {
      "cell_type": "markdown",
      "source": [
        "# ***senario 3 ***"
      ],
      "metadata": {
        "id": "eOqxDKV07Yup"
      }
    },
    {
      "cell_type": "code",
      "source": [
        "#prepare data classification using school as predicted value\n",
        "x3 = df.copy()\n",
        "x3.drop(labels =['school'],inplace=True,axis=1)\n",
        "y3 = df.school\n",
        "x3 = (x3 - x3.mean()) / x3.std()\n",
        "x_train3,x_test3,y_train3,y_test3 = train_test(x3,y3)\n",
        "x3 = np.nan_to_num(x3)"
      ],
      "metadata": {
        "colab": {
          "base_uri": "https://localhost:8080/"
        },
        "id": "GwuvJp4kx8iK",
        "outputId": "73e98705-6cac-4912-c37d-7f35c55cddeb"
      },
      "execution_count": 70,
      "outputs": [
        {
          "output_type": "stream",
          "name": "stderr",
          "text": [
            "/usr/local/lib/python3.8/dist-packages/sklearn/utils/extmath.py:985: RuntimeWarning: invalid value encountered in true_divide\n",
            "  updated_mean = (last_sum + new_sum) / updated_sample_count\n",
            "/usr/local/lib/python3.8/dist-packages/sklearn/utils/extmath.py:990: RuntimeWarning: invalid value encountered in true_divide\n",
            "  T = new_sum / new_sample_count\n",
            "/usr/local/lib/python3.8/dist-packages/sklearn/utils/extmath.py:1020: RuntimeWarning: invalid value encountered in true_divide\n",
            "  new_unnormalized_variance -= correction ** 2 / new_sample_count\n",
            "/usr/local/lib/python3.8/dist-packages/sklearn/utils/extmath.py:985: RuntimeWarning: invalid value encountered in true_divide\n",
            "  updated_mean = (last_sum + new_sum) / updated_sample_count\n",
            "/usr/local/lib/python3.8/dist-packages/sklearn/utils/extmath.py:990: RuntimeWarning: invalid value encountered in true_divide\n",
            "  T = new_sum / new_sample_count\n",
            "/usr/local/lib/python3.8/dist-packages/sklearn/utils/extmath.py:1020: RuntimeWarning: invalid value encountered in true_divide\n",
            "  new_unnormalized_variance -= correction ** 2 / new_sample_count\n"
          ]
        }
      ]
    },
    {
      "cell_type": "code",
      "source": [
        "logisticr(x_train3,y_train3,x_test3,y_test3)"
      ],
      "metadata": {
        "colab": {
          "base_uri": "https://localhost:8080/"
        },
        "id": "FqEIDLgex89l",
        "outputId": "f8f5127b-6161-4a0d-f78b-67a1feea9a26"
      },
      "execution_count": 71,
      "outputs": [
        {
          "output_type": "stream",
          "name": "stdout",
          "text": [
            "accuracy 89.70588235294117 %\n"
          ]
        }
      ]
    },
    {
      "cell_type": "code",
      "source": [
        "km(x_train3,y_train3,x_test3,y_test3)"
      ],
      "metadata": {
        "colab": {
          "base_uri": "https://localhost:8080/"
        },
        "id": "q8UrlLgax9XC",
        "outputId": "c3d781e7-eab3-42b3-be36-1bd8313dad12"
      },
      "execution_count": 72,
      "outputs": [
        {
          "output_type": "stream",
          "name": "stdout",
          "text": [
            "accuracy 85.29411764705883 %\n"
          ]
        }
      ]
    },
    {
      "cell_type": "code",
      "source": [
        "dtc(x_train3,y_train3,x_test3,y_test3)"
      ],
      "metadata": {
        "colab": {
          "base_uri": "https://localhost:8080/"
        },
        "id": "_yK2sqlAyR-1",
        "outputId": "980419f4-b362-41b3-b4b2-e6ee527a5345"
      },
      "execution_count": 73,
      "outputs": [
        {
          "output_type": "stream",
          "name": "stdout",
          "text": [
            "accuracy 83.82352941176471 %\n"
          ]
        }
      ]
    },
    {
      "cell_type": "code",
      "source": [
        "svm(x_train3,y_train3,x_test3,y_test3)"
      ],
      "metadata": {
        "colab": {
          "base_uri": "https://localhost:8080/"
        },
        "id": "3kjiK1PwySei",
        "outputId": "62d16d53-1f9b-4498-8277-c001a86c3669"
      },
      "execution_count": 74,
      "outputs": [
        {
          "output_type": "stream",
          "name": "stdout",
          "text": [
            "accuracy 88.23529411764706 %\n"
          ]
        }
      ]
    },
    {
      "cell_type": "code",
      "source": [
        "forst(x_train3,y_train3,x_test3,y_test3)"
      ],
      "metadata": {
        "colab": {
          "base_uri": "https://localhost:8080/"
        },
        "id": "5_6qzYfwyZAp",
        "outputId": "cf2b6b11-d1e7-44a1-acea-890dc8ac9d8c"
      },
      "execution_count": 75,
      "outputs": [
        {
          "output_type": "stream",
          "name": "stdout",
          "text": [
            "accuracy 88.23529411764706 %\n"
          ]
        }
      ]
    },
    {
      "cell_type": "code",
      "source": [
        "kn(x_train3,y_train3,x_test3,y_test3)"
      ],
      "metadata": {
        "colab": {
          "base_uri": "https://localhost:8080/"
        },
        "id": "kR68BeicyZYM",
        "outputId": "ef24adeb-b04b-44bb-ab87-1105a05d5410"
      },
      "execution_count": 76,
      "outputs": [
        {
          "output_type": "stream",
          "name": "stdout",
          "text": [
            "accuracy 88.23529411764706 %\n"
          ]
        }
      ]
    },
    {
      "cell_type": "code",
      "source": [
        "pca = PCA(n_components=2)\n",
        "pca.fit(df)\n",
        "PCA(n_components=2)\n",
        "print(pca.explained_variance_ratio_)\n",
        "print(pca.singular_values_)"
      ],
      "metadata": {
        "colab": {
          "base_uri": "https://localhost:8080/"
        },
        "id": "ot86Pj0EyZs0",
        "outputId": "1c4081d0-9e27-4ce8-eb8b-0aaac338ac1c"
      },
      "execution_count": 77,
      "outputs": [
        {
          "output_type": "stream",
          "name": "stdout",
          "text": [
            "[0.5045899  0.33800847]\n",
            "[91.01298513 74.48998336]\n"
          ]
        }
      ]
    }
  ]
}